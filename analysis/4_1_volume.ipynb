{
 "cells": [
  {
   "cell_type": "code",
   "execution_count": 1,
   "metadata": {},
   "outputs": [],
   "source": [
    "import pymongo\n",
    "import asyncio\n",
    "import pandas as pd\n",
    "import matplotlib.pyplot as plt\n",
    "\n",
    "from matplotlib.ticker import LogLocator\n",
    "\n",
    "MONGO_HOST = \"localhost\"\n",
    "MONGO_PORT = 27017\n",
    "\n",
    "COLORS  = {'arbitrum':'LightBlue', 'optimism':'red', 'ethereum':'purple', 'zksync':'black', 'flashbots':'orange'}\n",
    "ROLLUPS = ['ethereum', 'arbitrum', 'optimism', 'zksync']\n",
    "LABELS  = ['Ethereum', 'Arbitrum', 'Optimism', 'zkSync']\n",
    "\n",
    "mongo_connection = pymongo.MongoClient(\"mongodb://\"+MONGO_HOST+\":\"+str(MONGO_PORT), maxPoolSize=None)"
   ]
  },
  {
   "cell_type": "markdown",
   "metadata": {},
   "source": [
    "### Arbitrage"
   ]
  },
  {
   "cell_type": "code",
   "execution_count": 2,
   "metadata": {},
   "outputs": [
    {
     "name": "stdout",
     "output_type": "stream",
     "text": [
      " \t \t Ethereum \t Arbitrum \t Optimism \t zkSync\n",
      "Uniswap V3 \t 1450698 \t 1534733 \t 830359 \t 2890\n",
      "Balancer V2 \t 127866 \t 167294 \t 83044 \t 0\n",
      "Curve \t 45315 \t 27238 \t 30186 \t 0\n",
      "Balancer V1 \t 349464 \t 0 \t 0 \t 0\n",
      "Uniswap V2 \t 2572061 \t 1074085 \t 990746 \t 108064\n",
      "Total \t 2901740 \t 1746083 \t 1153366 \t 108070\n"
     ]
    }
   ],
   "source": [
    "print(\" \\t \\t Ethereum \\t Arbitrum \\t Optimism \\t zkSync\")\n",
    "protocols = list()\n",
    "protocols += mongo_connection[\"ethereum\"][\"mev_arbitrage_results\"].distinct(\"arbitrages.swaps.protocol_name\")\n",
    "protocols += mongo_connection[\"arbitrum\"][\"mev_arbitrage_results\"].distinct(\"arbitrages.swaps.protocol_name\")\n",
    "protocols += mongo_connection[\"optimism\"][\"mev_arbitrage_results\"].distinct(\"arbitrages.swaps.protocol_name\")\n",
    "protocols += mongo_connection[\"zksync\"][\"mev_arbitrage_results\"].distinct(\"arbitrages.swaps.protocol_name\")\n",
    "protocols = list(set(protocols))\n",
    "for protocol in protocols:\n",
    "    ethereum = mongo_connection[\"ethereum\"][\"mev_arbitrage_results\"].count_documents({\"arbitrages.swaps.protocol_name\": protocol})\n",
    "    arbitrum = mongo_connection[\"arbitrum\"][\"mev_arbitrage_results\"].count_documents({\"arbitrages.swaps.protocol_name\": protocol})\n",
    "    optimism = mongo_connection[\"optimism\"][\"mev_arbitrage_results\"].count_documents({\"arbitrages.swaps.protocol_name\": protocol})\n",
    "    zksync = mongo_connection[\"zksync\"][\"mev_arbitrage_results\"].count_documents({\"arbitrages.swaps.protocol_name\": protocol})\n",
    "    print(protocol, \"\\t\", ethereum, \"\\t\", arbitrum, \"\\t\", optimism, \"\\t\", zksync)\n",
    "ethereum_total = mongo_connection[\"ethereum\"][\"mev_arbitrage_results\"].count_documents({})\n",
    "arbitrum_total = mongo_connection[\"arbitrum\"][\"mev_arbitrage_results\"].count_documents({})\n",
    "optimism_total = mongo_connection[\"optimism\"][\"mev_arbitrage_results\"].count_documents({})\n",
    "zksync_total = mongo_connection[\"zksync\"][\"mev_arbitrage_results\"].count_documents({})\n",
    "print(\"Total\", \"\\t\", ethereum_total, \"\\t\", arbitrum_total, \"\\t\", optimism_total, \"\\t\", zksync_total)"
   ]
  },
  {
   "cell_type": "markdown",
   "metadata": {},
   "source": [
    "### Liquidation"
   ]
  },
  {
   "cell_type": "code",
   "execution_count": 3,
   "metadata": {},
   "outputs": [
    {
     "name": "stdout",
     "output_type": "stream",
     "text": [
      " \t \t Ethereum \t Arbitrum \t Optimism \t zkSync\n",
      "Aave \t 30734 \t 2829 \t 3358 \t 0\n",
      "Compound \t 24038 \t 2448 \t 1989 \t 325\n",
      "Total \t 54772 \t 5277 \t 5347 \t 325\n"
     ]
    }
   ],
   "source": [
    "print(\" \\t \\t Ethereum \\t Arbitrum \\t Optimism \\t zkSync\")\n",
    "protocols = list()\n",
    "protocols += mongo_connection[\"ethereum\"][\"mev_liquidation_results\"].distinct(\"liquidations.protocol_name\")\n",
    "protocols += mongo_connection[\"arbitrum\"][\"mev_liquidation_results\"].distinct(\"liquidations.protocol_name\")\n",
    "protocols += mongo_connection[\"optimism\"][\"mev_liquidation_results\"].distinct(\"liquidations.protocol_name\")\n",
    "protocols += mongo_connection[\"zksync\"][\"mev_liquidation_results\"].distinct(\"liquidations.protocol_name\")\n",
    "protocols = list(set(protocols))\n",
    "for protocol in protocols:\n",
    "    ethereum = mongo_connection[\"ethereum\"][\"mev_liquidation_results\"].count_documents({\"liquidations.protocol_name\": protocol})\n",
    "    arbitrum = mongo_connection[\"arbitrum\"][\"mev_liquidation_results\"].count_documents({\"liquidations.protocol_name\": protocol})\n",
    "    optimism = mongo_connection[\"optimism\"][\"mev_liquidation_results\"].count_documents({\"liquidations.protocol_name\": protocol})\n",
    "    zksync = mongo_connection[\"zksync\"][\"mev_liquidation_results\"].count_documents({\"liquidations.protocol_name\": protocol})\n",
    "    print(protocol, \"\\t\", ethereum, \"\\t\", arbitrum, \"\\t\", optimism, \"\\t\", zksync)\n",
    "ethereum_total = mongo_connection[\"ethereum\"][\"mev_liquidation_results\"].count_documents({})\n",
    "arbitrum_total = mongo_connection[\"arbitrum\"][\"mev_liquidation_results\"].count_documents({})\n",
    "optimism_total = mongo_connection[\"optimism\"][\"mev_liquidation_results\"].count_documents({})\n",
    "zksync_total = mongo_connection[\"zksync\"][\"mev_liquidation_results\"].count_documents({})\n",
    "print(\"Total\", \"\\t\", ethereum_total, \"\\t\", arbitrum_total, \"\\t\", optimism_total, \"\\t\", zksync_total)"
   ]
  },
  {
   "cell_type": "markdown",
   "metadata": {},
   "source": [
    "### Sandwiching"
   ]
  },
  {
   "cell_type": "code",
   "execution_count": 4,
   "metadata": {},
   "outputs": [
    {
     "name": "stdout",
     "output_type": "stream",
     "text": [
      " \t \t Ethereum \t Arbitrum \t Optimism \t zkSync\n",
      "Total \t 0 \t 0 \t 0 \t 0\n"
     ]
    }
   ],
   "source": [
    "print(\" \\t \\t Ethereum \\t Arbitrum \\t Optimism \\t zkSync\")\n",
    "protocols = list()\n",
    "protocols += mongo_connection[\"ethereum\"][\"mev_sandwich_results\"].distinct(\"victim_transactions.exchange_name\")\n",
    "protocols += mongo_connection[\"arbitrum\"][\"mev_sandwich_results\"].distinct(\"victim_transactions.exchange_name\")\n",
    "protocols += mongo_connection[\"optimism\"][\"mev_sandwich_results\"].distinct(\"victim_transactions.exchange_name\")\n",
    "protocols += mongo_connection[\"zksync\"][\"mev_sandwich_results\"].distinct(\"victim_transactions.exchange_name\")\n",
    "protocols = list(set(protocols))\n",
    "for protocol in protocols:\n",
    "    ethereum = mongo_connection[\"ethereum\"][\"mev_sandwich_results\"].count_documents({\"victim_transactions.exchange_name\": protocol})\n",
    "    arbitrum = mongo_connection[\"arbitrum\"][\"mev_sandwich_results\"].count_documents({\"victim_transactions.exchange_name\": protocol})\n",
    "    optimism = mongo_connection[\"optimism\"][\"mev_sandwich_results\"].count_documents({\"victim_transactions.exchange_name\": protocol})\n",
    "    zksync = mongo_connection[\"zksync\"][\"mev_sandwich_results\"].count_documents({\"victim_transactions.exchange_name\": protocol})\n",
    "    print(protocol, \"\\t\", ethereum, \"\\t\", arbitrum, \"\\t\", optimism, \"\\t\", zksync)\n",
    "ethereum_total = mongo_connection[\"ethereum\"][\"mev_sandwich_results\"].count_documents({})\n",
    "arbitrum_total = mongo_connection[\"arbitrum\"][\"mev_sandwich_results\"].count_documents({})\n",
    "optimism_total = mongo_connection[\"optimism\"][\"mev_sandwich_results\"].count_documents({})\n",
    "zksync_total = mongo_connection[\"zksync\"][\"mev_sandwich_results\"].count_documents({})\n",
    "print(\"Total\", \"\\t\", ethereum_total, \"\\t\", arbitrum_total, \"\\t\", optimism_total, \"\\t\", zksync_total)"
   ]
  },
  {
   "cell_type": "code",
   "execution_count": 5,
   "metadata": {},
   "outputs": [],
   "source": [
    "liq_arb_coll = mongo_connection['arbitrum']['mev_liquidation_results']\n",
    "liq_opt_coll = mongo_connection['optimism']['mev_liquidation_results']\n",
    "liq_eth_coll = mongo_connection['ethereum']['mev_liquidation_results']\n",
    "liq_zk_coll = mongo_connection['zksync']['mev_liquidation_results']\n",
    "\n",
    "arb_arb_coll = mongo_connection['arbitrum']['mev_arbitrage_results']\n",
    "arb_opt_coll = mongo_connection['optimism']['mev_arbitrage_results']\n",
    "arb_eth_coll = mongo_connection['ethereum']['mev_arbitrage_results']\n",
    "arb_zk_coll = mongo_connection['zksync']['mev_arbitrage_results']\n",
    "\n",
    "def get_liq_collections():\n",
    "    return zip(ROLLUPS, LABELS, [liq_arb_coll, liq_opt_coll, liq_eth_coll, liq_zk_coll])\n",
    "\n",
    "def get_arb_collections():\n",
    "    return zip(ROLLUPS, LABELS, [arb_arb_coll, arb_opt_coll, arb_eth_coll, arb_zk_coll])\n",
    "\n",
    "def coll_to_df(rollup, coll):\n",
    "    print(f\"Converting {rollup} collection {coll} to data frame...\")\n",
    "    return pd.DataFrame(list(coll.find({}, {\"datetime\":1, \"total_cost_usd\":1, \"_id\":0})))"
   ]
  },
  {
   "cell_type": "code",
   "execution_count": 6,
   "metadata": {},
   "outputs": [
    {
     "name": "stdout",
     "output_type": "stream",
     "text": [
      "Retimestamping ethereum liquidations and arbitrages\n",
      "Retimestamping arbitrum liquidations and arbitrages\n",
      "Retimestamping optimism liquidations and arbitrages\n",
      "Retimestamping zksync liquidations and arbitrages\n"
     ]
    }
   ],
   "source": [
    "async def add_iso_timestamps(platform, coll_name):\n",
    "    pipeline = [\n",
    "        {\n",
    "            \"$set\": {\n",
    "                \"datetime\": {\"$toDate\": {\n",
    "                    \"$multiply\": [1000, {\"$toLong\": \"$block_timestamp\"}]\n",
    "                }}\n",
    "            },\n",
    "        },\n",
    "        {\n",
    "            \"$out\" : { \n",
    "                \"db\": platform, \"coll\": coll_name \n",
    "            } \n",
    "        }\n",
    "    ]\n",
    "    # Run the aggregation pipeline\n",
    "    mongo_connection[rollup][coll_name].aggregate(pipeline)\n",
    "\n",
    "for rollup in ROLLUPS:\n",
    "    print(f\"Retimestamping {rollup} liquidations and arbitrages\")\n",
    "    task1 = asyncio.create_task(add_iso_timestamps(rollup, \"mev_liquidation_results\"))        \n",
    "    task2 = asyncio.create_task(add_iso_timestamps(rollup, \"mev_arbitrage_results\"))\n",
    "    \n",
    "    await task1\n",
    "    await task2"
   ]
  },
  {
   "cell_type": "code",
   "execution_count": 7,
   "metadata": {},
   "outputs": [
    {
     "name": "stdout",
     "output_type": "stream",
     "text": [
      "Converting ethereum collection Collection(Database(MongoClient(host=['localhost:27017'], document_class=dict, tz_aware=False, connect=True, maxpoolsize=None), 'arbitrum'), 'mev_liquidation_results') to data frame...\n",
      "Converting arbitrum collection Collection(Database(MongoClient(host=['localhost:27017'], document_class=dict, tz_aware=False, connect=True, maxpoolsize=None), 'optimism'), 'mev_liquidation_results') to data frame...\n",
      "Converting optimism collection Collection(Database(MongoClient(host=['localhost:27017'], document_class=dict, tz_aware=False, connect=True, maxpoolsize=None), 'ethereum'), 'mev_liquidation_results') to data frame...\n",
      "Converting zksync collection Collection(Database(MongoClient(host=['localhost:27017'], document_class=dict, tz_aware=False, connect=True, maxpoolsize=None), 'zksync'), 'mev_liquidation_results') to data frame...\n",
      "Converting ethereum collection Collection(Database(MongoClient(host=['localhost:27017'], document_class=dict, tz_aware=False, connect=True, maxpoolsize=None), 'arbitrum'), 'mev_arbitrage_results') to data frame...\n",
      "Converting arbitrum collection Collection(Database(MongoClient(host=['localhost:27017'], document_class=dict, tz_aware=False, connect=True, maxpoolsize=None), 'optimism'), 'mev_arbitrage_results') to data frame...\n",
      "Converting optimism collection Collection(Database(MongoClient(host=['localhost:27017'], document_class=dict, tz_aware=False, connect=True, maxpoolsize=None), 'ethereum'), 'mev_arbitrage_results') to data frame...\n",
      "Converting zksync collection Collection(Database(MongoClient(host=['localhost:27017'], document_class=dict, tz_aware=False, connect=True, maxpoolsize=None), 'zksync'), 'mev_arbitrage_results') to data frame...\n"
     ]
    },
    {
     "data": {
      "image/png": "[encoded data removed]",
      "text/plain": [
       "<Figure size 1100x350 with 2 Axes>"
      ]
     },
     "metadata": {},
     "output_type": "display_data"
    }
   ],
   "source": [
    "params = {'text.usetex' : True,\n",
    "          'font.size' : 12,\n",
    "          'font.family' : 'lmodern',\n",
    "          }\n",
    "plt.rcParams.update(params)\n",
    "\n",
    "liq_arb_df, liq_opt_df, liq_eth_df, liq_zk_df = tuple(coll_to_df(rollup, coll) for rollup, label, coll in get_liq_collections())\n",
    "arb_arb_df, arb_opt_df, arb_eth_df, arb_zk_df = tuple(coll_to_df(rollup, coll) for rollup, label, coll in get_arb_collections())\n",
    "\n",
    "def count_by_month(df):\n",
    "    return df.resample('ME', on='datetime').size().fillna(0)\n",
    "\n",
    "arb_df = pd.DataFrame()\n",
    "arb_df['ethereum'] = count_by_month(arb_eth_df)\n",
    "arb_df['arbitrum'] = count_by_month(arb_arb_df)\n",
    "arb_df['optimism'] = count_by_month(arb_opt_df)\n",
    "arb_df['zksync'] = count_by_month(arb_zk_df)\n",
    "arb_df = arb_df.fillna(0)\n",
    "arb_df.index = arb_df.index.date\n",
    "\n",
    "liq_df = pd.DataFrame()\n",
    "liq_df['ethereum'] = count_by_month(liq_eth_df)\n",
    "liq_df['arbitrum'] = count_by_month(liq_arb_df)\n",
    "liq_df['optimism'] = count_by_month(liq_opt_df)\n",
    "liq_df['zksync'] = count_by_month(liq_zk_df)\n",
    "liq_df = liq_df.fillna(0)\n",
    "liq_df.index = liq_df.index.date\n",
    "\n",
    "\n",
    "# Create the figure\n",
    "fig, (ax1, ax2) = plt.subplots(2, 1, sharex=True, figsize=(11, 3.5))\n",
    "\n",
    "bar_width = 0.2\n",
    "\n",
    "# Calculate the positions of each bar\n",
    "positions = range(len(liq_df.index))\n",
    "\n",
    "for i, column in enumerate(liq_df.columns):\n",
    "    ax1.bar([p + i * bar_width for p in positions], arb_df[column], width=bar_width, label=LABELS[i], color=COLORS[column])\n",
    "    ax2.bar([p + i * bar_width for p in positions], liq_df[column], width=bar_width, label=LABELS[i], color=COLORS[column])\n",
    "\n",
    "\n",
    "ax1.set_ylim(1, 10**6)\n",
    "ax2.set_ylim(1, 10**6)\n",
    "ax1.set_ylabel('Arbitrages')\n",
    "ax2.set_ylabel('Liquidations')\n",
    "ax1.set_yscale('log')\n",
    "ax2.set_yscale('log')\n",
    "plt.xlim(positions[0] - bar_width, positions[-1] + bar_width * len(liq_df.columns))\n",
    "\n",
    "tick_positions = [0, 3, 6, 9, 12, 15, 18, 21, 24, 27, 30]\n",
    "tick_labels = ['Jan\\n2021', 'Apr', 'Jul', 'Oct', 'Jan\\n2022', 'Apr', 'Jul', 'Oct', 'Jan\\n2023', 'Apr', 'Jul']\n",
    "\n",
    "plt.xticks(tick_positions, tick_labels)\n",
    "ax2.legend(loc='upper center', ncol=4)\n",
    "plt.tight_layout()\n",
    "\n",
    "plt.savefig('figure_5.png', bbox_inches='tight', facecolor='white', transparent=True, dpi=1000)"
   ]
  }
 ],
 "metadata": {
  "kernelspec": {
   "display_name": "Python 3 (ipykernel)",
   "language": "python",
   "name": "python3"
  },
  "language_info": {
   "codemirror_mode": {
    "name": "ipython",
    "version": 3
   },
   "file_extension": ".py",
   "mimetype": "text/x-python",
   "name": "python",
   "nbconvert_exporter": "python",
   "pygments_lexer": "ipython3",
   "version": "3.10.12"
  }
 },
 "nbformat": 4,
 "nbformat_minor": 4
}
