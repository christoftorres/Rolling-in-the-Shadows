{
 "cells": [
  {
   "cell_type": "code",
   "execution_count": 1,
   "id": "99b08f64",
   "metadata": {},
   "outputs": [],
   "source": [
    "import pymongo\n",
    "import numpy as np\n",
    "import matplotlib.pyplot as plt\n",
    "\n",
    "MONGO_HOST = \"localhost\"\n",
    "MONGO_PORT = 27017\n",
    "\n",
    "mongo_connection = pymongo.MongoClient(\"mongodb://\"+MONGO_HOST+\":\"+str(MONGO_PORT), maxPoolSize=None)"
   ]
  },
  {
   "cell_type": "code",
   "execution_count": 2,
   "id": "ccfb2ae0-1300-40fe-9de5-1c034def7888",
   "metadata": {},
   "outputs": [],
   "source": [
    "def calculate_p90(values):\n",
    "    sorted_values = sorted(values)\n",
    "    index = round((90/100) * len(sorted_values))\n",
    "    return sorted_values[index-1]"
   ]
  },
  {
   "cell_type": "markdown",
   "id": "06952a71",
   "metadata": {},
   "source": [
    "### Arbitrage"
   ]
  },
  {
   "cell_type": "code",
   "execution_count": 3,
   "id": "79070cd7",
   "metadata": {},
   "outputs": [],
   "source": [
    "arbitrage_ethereum_profits = list()\n",
    "arbitrage_ethereum_total_profit = 0\n",
    "cursor = mongo_connection[\"ethereum\"][\"mev_arbitrage_results\"].find()\n",
    "for document in cursor:\n",
    "    if document[\"total_profit_usd\"] != None:\n",
    "        arbitrage_ethereum_total_profit += document[\"total_profit_usd\"]\n",
    "        arbitrage_ethereum_profits.append(document[\"total_profit_usd\"])"
   ]
  },
  {
   "cell_type": "code",
   "execution_count": 4,
   "id": "a7d47d74-d1d6-4adc-a824-40eaa85f5c4d",
   "metadata": {},
   "outputs": [],
   "source": [
    "arbitrage_arbitrum_profits = list()\n",
    "arbitrage_arbitrum_total_profit = 0\n",
    "cursor = mongo_connection[\"arbitrum\"][\"mev_arbitrage_results\"].find()\n",
    "for document in cursor:\n",
    "    if document[\"total_profit_usd\"] != None:\n",
    "        arbitrage_arbitrum_total_profit += document[\"total_profit_usd\"]\n",
    "        arbitrage_arbitrum_profits.append(document[\"total_profit_usd\"])"
   ]
  },
  {
   "cell_type": "code",
   "execution_count": 5,
   "id": "17857d1c-627f-4fcc-8605-8e4c14d309fd",
   "metadata": {},
   "outputs": [],
   "source": [
    "arbitrage_optimism_profits = list()\n",
    "arbitrage_optimism_total_profit = 0\n",
    "cursor = mongo_connection[\"optimism\"][\"mev_arbitrage_results\"].find()\n",
    "for document in cursor:\n",
    "    if document[\"total_profit_usd\"] != None:\n",
    "        arbitrage_optimism_total_profit += document[\"total_profit_usd\"]\n",
    "        arbitrage_optimism_profits.append(document[\"total_profit_usd\"])"
   ]
  },
  {
   "cell_type": "code",
   "execution_count": 6,
   "id": "768f3cd1-1166-4990-8f81-5bfbb7b79aeb",
   "metadata": {},
   "outputs": [],
   "source": [
    "arbitrage_zksync_profits = list()\n",
    "arbitrage_zksync_total_profit = 0\n",
    "cursor = mongo_connection[\"zksync\"][\"mev_arbitrage_results\"].find()\n",
    "for document in cursor:\n",
    "    if document[\"total_profit_usd\"] != None:\n",
    "        arbitrage_zksync_total_profit += document[\"total_profit_usd\"]\n",
    "        arbitrage_zksync_profits.append(document[\"total_profit_usd\"])"
   ]
  },
  {
   "cell_type": "code",
   "execution_count": 7,
   "id": "0d1d3aef",
   "metadata": {},
   "outputs": [
    {
     "name": "stdout",
     "output_type": "stream",
     "text": [
      "\t\t Ethereum \t\t Arbitrum \t\t Optimism \t\t zkSync \n",
      "Total \t  209981692.18422633 \t 17419113.840188175 \t 2514046.355293716 \t 640243.3566805259\n",
      "Max \t  25614599.907514025 \t 1913418.4395823043 \t 79927.65428373175 \t 23891.421276064557\n",
      "P90 \t  87.50669614554275 \t 6.551174441956582 \t 1.942649422956852 \t 7.516146830138651\n",
      "Mean \t  74.12390862768761 \t 10.140922824459254 \t 2.2057662573940338 \t 6.121224512692087\n",
      "Median \t  4.799510100694295 \t 0.2729434124889405 \t 0.2278023753799679 \t 0.8344879782799005\n",
      "Min \t  -15828.076373826409 \t -1659.0240222961734 \t -15963.708132649765 \t -21.376525053141325\n"
     ]
    }
   ],
   "source": [
    "print(\"\\t\\t Ethereum \\t\\t Arbitrum \\t\\t Optimism \\t\\t zkSync \")\n",
    "print(\"Total \\t \", arbitrage_ethereum_total_profit, \"\\t\", arbitrage_arbitrum_total_profit, \"\\t\", arbitrage_optimism_total_profit, \"\\t\", arbitrage_zksync_total_profit)\n",
    "print(\"Max \\t \", np.max(arbitrage_ethereum_profits), \"\\t\", np.max(arbitrage_arbitrum_profits), \"\\t\", np.max(arbitrage_optimism_profits), \"\\t\", np.max(arbitrage_zksync_profits))\n",
    "print(\"P90 \\t \", calculate_p90(arbitrage_ethereum_profits), \"\\t\", calculate_p90(arbitrage_arbitrum_profits), \"\\t\", calculate_p90(arbitrage_optimism_profits), \"\\t\", calculate_p90(arbitrage_zksync_profits))\n",
    "print(\"Mean \\t \", np.mean(arbitrage_ethereum_profits), \"\\t\", np.mean(arbitrage_arbitrum_profits), \"\\t\", np.mean(arbitrage_optimism_profits), \"\\t\", np.mean(arbitrage_zksync_profits))\n",
    "print(\"Median \\t \", np.median(arbitrage_ethereum_profits), \"\\t\", np.median(arbitrage_arbitrum_profits), \"\\t\", np.median(arbitrage_optimism_profits), \"\\t\", np.median(arbitrage_zksync_profits))\n",
    "print(\"Min \\t \", np.min(arbitrage_ethereum_profits), \"\\t\", np.min(arbitrage_arbitrum_profits), \"\\t\", np.min(arbitrage_optimism_profits), \"\\t\", np.min(arbitrage_zksync_profits))"
   ]
  },
  {
   "cell_type": "markdown",
   "id": "1d4fae40-7fa4-4afd-83de-1ad33e800f9c",
   "metadata": {},
   "source": [
    "### Liquidation"
   ]
  },
  {
   "cell_type": "code",
   "execution_count": 9,
   "id": "233945ff-378f-4789-955a-487b7630e85c",
   "metadata": {},
   "outputs": [],
   "source": [
    "liquidation_ethereum_profits = list()\n",
    "liquidation_ethereum_total_profit = 0\n",
    "cursor = mongo_connection[\"ethereum\"][\"mev_liquidation_results\"].find()\n",
    "for document in cursor:\n",
    "    if document[\"total_profit_usd\"] != None:\n",
    "        liquidation_ethereum_total_profit += document[\"total_profit_usd\"]\n",
    "        liquidation_ethereum_profits.append(document[\"total_profit_usd\"])"
   ]
  },
  {
   "cell_type": "code",
   "execution_count": 10,
   "id": "6f85a506-7df6-45ba-8c5c-44894c37db26",
   "metadata": {},
   "outputs": [],
   "source": [
    "liquidation_arbitrum_profits = list()\n",
    "liquidation_arbitrum_total_profit = 0\n",
    "cursor = mongo_connection[\"arbitrum\"][\"mev_liquidation_results\"].find()\n",
    "for document in cursor:\n",
    "    try:\n",
    "        if document[\"total_profit_usd\"] != None:\n",
    "            liquidation_arbitrum_total_profit += document[\"total_profit_usd\"]\n",
    "            liquidation_arbitrum_profits.append(document[\"total_profit_usd\"])\n",
    "    except:\n",
    "        print(document)\n",
    "        break"
   ]
  },
  {
   "cell_type": "code",
   "execution_count": 11,
   "id": "4f89289f-e097-4d4b-b46c-8ccf544e8c5f",
   "metadata": {},
   "outputs": [],
   "source": [
    "liquidation_optimism_profits = list()\n",
    "liquidation_optimism_total_profit = 0\n",
    "cursor = mongo_connection[\"optimism\"][\"mev_liquidation_results\"].find()\n",
    "for document in cursor:\n",
    "    if document[\"total_profit_usd\"] != None:\n",
    "        liquidation_optimism_total_profit += document[\"total_profit_usd\"]\n",
    "        liquidation_optimism_profits.append(document[\"total_profit_usd\"])"
   ]
  },
  {
   "cell_type": "code",
   "execution_count": 12,
   "id": "b01f378a-9dba-49a7-ba73-26ba6616935a",
   "metadata": {},
   "outputs": [],
   "source": [
    "liquidation_zksync_profits = list()\n",
    "liquidation_zksync_total_profit = 0\n",
    "cursor = mongo_connection[\"zksync\"][\"mev_liquidation_results\"].find()\n",
    "for document in cursor:\n",
    "    if document[\"total_profit_usd\"] != None:\n",
    "        liquidation_zksync_total_profit += document[\"total_profit_usd\"]\n",
    "        liquidation_zksync_profits.append(document[\"total_profit_usd\"])"
   ]
  },
  {
   "cell_type": "code",
   "execution_count": 13,
   "id": "1cacca00-7fe8-4f55-a199-2a4d1cead743",
   "metadata": {},
   "outputs": [
    {
     "name": "stdout",
     "output_type": "stream",
     "text": [
      "\t\t Ethereum \t\t Arbitrum \t\t Optimism \t\t zkSync \n",
      "Total \t  232498892.46924874 \t 856503.6965116864 \t 1308358.3760786455 \t 10733.129929844774\n",
      "Max \t  2675295.1477172854 \t 71224.65908103416 \t 288573.277726232 \t 4014.5428727907574\n",
      "P90 \t  4814.0728150352625 \t 225.6375499464142 \t 74.82028571649248 \t 60.09626601346194\n",
      "Mean \t  5323.751888378126 \t 206.43617655138252 \t 296.0756678159416 \t 42.59178543589197\n",
      "Median \t  116.91088149666254 \t 1.6005829877152953 \t 0.6682790003582099 \t 4.976583266959491\n",
      "Min \t  -127586.84432964376 \t -821.463071496144 \t -2422.0108189737653 \t -1682.0259377905654\n"
     ]
    }
   ],
   "source": [
    "print(\"\\t\\t Ethereum \\t\\t Arbitrum \\t\\t Optimism \\t\\t zkSync \")\n",
    "print(\"Total \\t \", liquidation_ethereum_total_profit, \"\\t\", liquidation_arbitrum_total_profit, \"\\t\", liquidation_optimism_total_profit, \"\\t\", liquidation_zksync_total_profit)\n",
    "print(\"Max \\t \", np.max(liquidation_ethereum_profits), \"\\t\", np.max(liquidation_arbitrum_profits), \"\\t\", np.max(liquidation_optimism_profits), \"\\t\", np.max(liquidation_zksync_profits))\n",
    "print(\"P90 \\t \", calculate_p90(liquidation_ethereum_profits), \"\\t\", calculate_p90(liquidation_arbitrum_profits), \"\\t\", calculate_p90(liquidation_optimism_profits), \"\\t\", calculate_p90(liquidation_zksync_profits))\n",
    "print(\"Mean \\t \", np.mean(liquidation_ethereum_profits), \"\\t\", np.mean(liquidation_arbitrum_profits), \"\\t\", np.mean(liquidation_optimism_profits), \"\\t\", np.mean(liquidation_zksync_profits))\n",
    "print(\"Median \\t \", np.median(liquidation_ethereum_profits), \"\\t\", np.median(liquidation_arbitrum_profits), \"\\t\", np.median(liquidation_optimism_profits), \"\\t\", np.median(liquidation_zksync_profits))\n",
    "print(\"Min \\t \", np.min(liquidation_ethereum_profits), \"\\t\", np.min(liquidation_arbitrum_profits), \"\\t\", np.min(liquidation_optimism_profits), \"\\t\", np.min(liquidation_zksync_profits))"
   ]
  },
  {
   "cell_type": "code",
   "execution_count": 17,
   "id": "8ec9c613-b444-470d-b266-5285e19e21c6",
   "metadata": {},
   "outputs": [
    {
     "name": "stdout",
     "output_type": "stream",
     "text": [
      "Total \t  442480584.65347505 \t 18275617.53669986 \t 3822404.731372361 \t 650976.4866103707\n"
     ]
    }
   ],
   "source": [
    "print(\"Total \\t \", arbitrage_ethereum_total_profit+liquidation_ethereum_total_profit, \"\\t\", arbitrage_arbitrum_total_profit+liquidation_arbitrum_total_profit, \"\\t\", arbitrage_optimism_total_profit+liquidation_optimism_total_profit, \"\\t\", arbitrage_zksync_total_profit+liquidation_zksync_total_profit)"
   ]
  }
 ],
 "metadata": {
  "kernelspec": {
   "display_name": "Python 3 (ipykernel)",
   "language": "python",
   "name": "python3"
  },
  "language_info": {
   "codemirror_mode": {
    "name": "ipython",
    "version": 3
   },
   "file_extension": ".py",
   "mimetype": "text/x-python",
   "name": "python",
   "nbconvert_exporter": "python",
   "pygments_lexer": "ipython3",
   "version": "3.10.12"
  }
 },
 "nbformat": 4,
 "nbformat_minor": 5
}
