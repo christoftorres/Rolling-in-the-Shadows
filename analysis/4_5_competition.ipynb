{
 "cells": [
  {
   "cell_type": "code",
   "execution_count": 117,
   "id": "f28a43bf",
   "metadata": {},
   "outputs": [],
   "source": [
    "import pymongo\n",
    "import requests\n",
    "import numpy as np\n",
    "import matplotlib.pyplot as plt\n",
    "import matplotlib.ticker as mtick\n",
    "\n",
    "params = {'text.usetex' : True,\n",
    "          'font.size' : 14,\n",
    "          'font.family' : 'lmodern',\n",
    "          }\n",
    "plt.rcParams.update(params) \n",
    "\n",
    "MONGO_HOST = \"sectrs-vascodagama\"\n",
    "MONGO_PORT = 27017\n",
    "\n",
    "ETHERSCAN_API_KEY  = \"ANAZQYWNY3ZBIIMIY9P153TE6Y78PUM226\"\n",
    "ARBISCAN_API_KEY   = \"ZR3UVYUDWUXZVHZ4FK3F5IKSP1PKYSNENF\"\n",
    "OPTIMISTIC_API_KEY = \"MT3E76PG6K9RWD8VDTDS2R4HR7GY58QU7B\"\n",
    "\n",
    "mongo_connection = pymongo.MongoClient(\"mongodb://\"+MONGO_HOST+\":\"+str(MONGO_PORT), maxPoolSize=None)"
   ]
  },
  {
   "cell_type": "markdown",
   "id": "a151354b",
   "metadata": {},
   "source": [
    "## Arbitrage"
   ]
  },
  {
   "cell_type": "markdown",
   "id": "392d00f1",
   "metadata": {},
   "source": [
    "### Ethereum"
   ]
  },
  {
   "cell_type": "code",
   "execution_count": 157,
   "id": "197fcce5",
   "metadata": {},
   "outputs": [
    {
     "name": "stdout",
     "output_type": "stream",
     "text": [
      "Number of arbitrages on Ethereum with competition: 232074\n",
      "Minimum number of competitors for a single competition: 2\n",
      "Maximum number of competitors for a single competition: 14\n"
     ]
    },
    {
     "data": {
      "image/png": "[encoded data removed]",
      "text/plain": [
       "<Figure size 640x480 with 1 Axes>"
      ]
     },
     "metadata": {},
     "output_type": "display_data"
    }
   ],
   "source": [
    "opportunities = list(mongo_connection[\"ethereum\"][\"mev_arbitrage_opportunities\"].find())\n",
    "swaps = dict()\n",
    "for i in range(len(opportunities)):\n",
    "    for opportunity in opportunities[i][\"opportunities\"]:\n",
    "        if opportunity[\"swap\"][\"block_number\"] != None:\n",
    "            if not opportunity[\"swap\"][\"block_number\"] in swaps:\n",
    "                swaps[opportunity[\"swap\"][\"block_number\"]] = set()\n",
    "            swaps[opportunity[\"swap\"][\"block_number\"]].add(opportunity[\"arbitrage\"][\"transaction_hash\"])\n",
    "                        \n",
    "ethereum_arbitrage_opportunities_with_competition = list()\n",
    "ethereum_arbitrage_competiton_sizes = list()\n",
    "ethereum_arbitrage_competiton_distance = list()\n",
    "for block_number in swaps:\n",
    "    if len(swaps[block_number]) > 1:\n",
    "        competitors = dict()\n",
    "        for transaction_hash in swaps[block_number]:\n",
    "            arbitrage = mongo_connection[\"ethereum\"][\"mev_arbitrage_results\"].find_one({\"transaction.hash\": transaction_hash})\n",
    "            if not arbitrage[\"transaction\"][\"to\"] in competitors:\n",
    "                competitors[arbitrage[\"transaction\"][\"to\"]] = list()\n",
    "            competitors[arbitrage[\"transaction\"][\"to\"]].append((transaction_hash, arbitrage[\"block_number\"]))\n",
    "        if len(competitors) > 1:\n",
    "            ethereum_arbitrage_opportunities_with_competition.append(competitors)\n",
    "            ethereum_arbitrage_competiton_sizes.append(len(competitors))\n",
    "            distances = list()\n",
    "            for competitor in competitors:\n",
    "                distances.append(min([number for _, number in competitors[competitor]]))\n",
    "            distances.sort()\n",
    "            first_block = distances[0]\n",
    "            for i in range(len(distances)-1):\n",
    "                ethereum_arbitrage_competiton_distance.append(distances[i+1] - first_block) \n",
    "                \n",
    "print(\"Number of arbitrages on Ethereum with competition:\", len(ethereum_arbitrage_opportunities_with_competition))\n",
    "if len(ethereum_arbitrage_competiton_sizes) > 0:\n",
    "    print(\"Minimum number of competitors for a single competition:\", min(ethereum_arbitrage_competiton_sizes))\n",
    "    print(\"Maximum number of competitors for a single competition:\", max(ethereum_arbitrage_competiton_sizes))\n",
    "    \n",
    "if len(ethereum_arbitrage_competiton_distance) > 0:\n",
    "    fig, ax = plt.subplots()\n",
    "    ax.hist(ethereum_arbitrage_competiton_distance, edgecolor='purple', color='purple', alpha=0.8, bins=max(ethereum_arbitrage_competiton_distance))\n",
    "    ax.yaxis.set_major_formatter(mtick.PercentFormatter(len(ethereum_arbitrage_competiton_distance)))\n",
    "    ax.set_xlabel('Block Distance')\n",
    "    ax.set_ylabel('Proportion')\n",
    "    ax.set_xlim(min(ethereum_arbitrage_competiton_distance), max(ethereum_arbitrage_competiton_distance))\n",
    "    fig.tight_layout()\n",
    "    plt.show()"
   ]
  },
  {
   "cell_type": "code",
   "execution_count": 158,
   "id": "36cbd7cd",
   "metadata": {},
   "outputs": [
    {
     "name": "stdout",
     "output_type": "stream",
     "text": [
      "Percentage of arbitrage competition with a block distance of 0: 30.48071206136349\n",
      "Percentage of arbitrage competition with a block distance of 1: 25.582935487099185\n"
     ]
    }
   ],
   "source": [
    "ethereum_arbitrage_zero_distance_percentage = ethereum_arbitrage_competiton_distance.count(0) / len(ethereum_arbitrage_competiton_distance) * 100.0\n",
    "ethereum_arbitrage_one_distance_percentage = ethereum_arbitrage_competiton_distance.count(1) / len(ethereum_arbitrage_competiton_distance) * 100.0\n",
    "print(\"Percentage of arbitrage competition with a block distance of 0:\", ethereum_arbitrage_zero_distance_percentage)\n",
    "print(\"Percentage of arbitrage competition with a block distance of 1:\", ethereum_arbitrage_one_distance_percentage)"
   ]
  },
  {
   "cell_type": "code",
   "execution_count": 160,
   "id": "b94e7821",
   "metadata": {},
   "outputs": [
    {
     "name": "stdout",
     "output_type": "stream",
     "text": [
      "Number of arbitrage competitors on Ethereum: 1793\n",
      "Average failure rate of arbitrage competitors on Ethereum: 7.882734791445903\n"
     ]
    }
   ],
   "source": [
    "ethereum_arbitrage_competitors = set()\n",
    "for competitors in ethereum_arbitrage_opportunities_with_competition:\n",
    "    for competitor in competitors:\n",
    "        if competitor != None:\n",
    "            ethereum_arbitrage_competitors.add(competitor)\n",
    "print(\"Number of arbitrage competitors on Ethereum:\", len(ethereum_arbitrage_competitors))\n",
    "failure_rate = list()\n",
    "for competitor in ethereum_arbitrage_competitors:    \n",
    "    response = requests.get(\"https://api.etherscan.io/api?module=account&action=txlist&address=\"+competitor+\"&startblock=0&endblock=latest&page=1&offset=10000&sort=asc&apikey=\"+ETHERSCAN_API_KEY)\n",
    "    successful, failed = 0, 0\n",
    "    for tx in response.json()[\"result\"]:\n",
    "        if tx[\"txreceipt_status\"] == \"1\":\n",
    "            successful += 1\n",
    "        else:\n",
    "            failed += 1\n",
    "    if len(response.json()[\"result\"]) > 0:\n",
    "        failure_rate.append(failed / len(response.json()[\"result\"]) * 100.0)\n",
    "    else:\n",
    "        failure_rate.append(0.0)\n",
    "print(\"Average failure rate of arbitrage competitors on Ethereum:\", np.mean(failure_rate))"
   ]
  },
  {
   "cell_type": "markdown",
   "id": "7886aebe",
   "metadata": {},
   "source": [
    "### Arbitrum"
   ]
  },
  {
   "cell_type": "code",
   "execution_count": 67,
   "id": "1cd15493",
   "metadata": {},
   "outputs": [
    {
     "name": "stdout",
     "output_type": "stream",
     "text": [
      "Number of arbitrages on Arbitrum with competition: 259015\n",
      "Minimum number of competitors for a single competition: 2\n",
      "Maximum number of competitors for a single competition: 15\n"
     ]
    },
    {
     "data": {
      "image/png": "[encoded data removed]",
      "text/plain": [
       "<Figure size 640x480 with 1 Axes>"
      ]
     },
     "metadata": {},
     "output_type": "display_data"
    }
   ],
   "source": [
    "opportunities = list(mongo_connection[\"arbitrum\"][\"mev_arbitrage_opportunities\"].find())\n",
    "swaps = dict()\n",
    "for i in range(len(opportunities)):\n",
    "    for opportunity in opportunities[i][\"opportunities\"]:\n",
    "        if opportunity[\"swap\"][\"block_number\"] != None:\n",
    "            if not opportunity[\"swap\"][\"block_number\"] in swaps:\n",
    "                swaps[opportunity[\"swap\"][\"block_number\"]] = set()\n",
    "            swaps[opportunity[\"swap\"][\"block_number\"]].add(opportunity[\"arbitrage\"][\"transaction_hash\"])\n",
    "                        \n",
    "arbitrum_arbitrage_opportunities_with_competition = list()\n",
    "arbitrum_arbitrage_competiton_sizes = list()\n",
    "arbitrum_arbitrage_competiton_distance = list()\n",
    "for block_number in swaps:\n",
    "    if len(swaps[block_number]) > 1:\n",
    "        competitors = dict()\n",
    "        for transaction_hash in swaps[block_number]:\n",
    "            arbitrage = mongo_connection[\"arbitrum\"][\"mev_arbitrage_results\"].find_one({\"transaction.hash\": transaction_hash})\n",
    "            if not arbitrage[\"transaction\"][\"to\"] in competitors:\n",
    "                competitors[arbitrage[\"transaction\"][\"to\"]] = list()\n",
    "            competitors[arbitrage[\"transaction\"][\"to\"]].append((transaction_hash, arbitrage[\"block_number\"]))\n",
    "        if len(competitors) > 1:\n",
    "            arbitrum_arbitrage_opportunities_with_competition.append(competitors)\n",
    "            arbitrum_arbitrage_competiton_sizes.append(len(competitors))\n",
    "            distances = list()\n",
    "            for competitor in competitors:\n",
    "                distances.append(min([number for _, number in competitors[competitor]]))\n",
    "            distances.sort()\n",
    "            first_block = distances[0]\n",
    "            for i in range(len(distances)-1):\n",
    "                arbitrum_arbitrage_competiton_distance.append(distances[i+1] - first_block) \n",
    "                \n",
    "print(\"Number of arbitrages on Arbitrum with competition:\", len(arbitrum_arbitrage_opportunities_with_competition))\n",
    "if len(arbitrum_arbitrage_competiton_sizes) > 0:\n",
    "    print(\"Minimum number of competitors for a single competition:\", min(arbitrum_arbitrage_competiton_sizes))\n",
    "    print(\"Maximum number of competitors for a single competition:\", max(arbitrum_arbitrage_competiton_sizes))\n",
    "    \n",
    "if len(arbitrum_arbitrage_competiton_distance) > 0:\n",
    "    fig, ax = plt.subplots()\n",
    "    ax.hist(arbitrum_arbitrage_competiton_distance, edgecolor='LightBlue', color='LightBlue', alpha=0.8, bins=max(arbitrum_arbitrage_competiton_distance))\n",
    "    ax.yaxis.set_major_formatter(mtick.PercentFormatter(len(arbitrum_arbitrage_competiton_distance)))\n",
    "    ax.set_xlabel('Block Distance')\n",
    "    ax.set_ylabel('Proportion')\n",
    "    ax.set_xlim(min(arbitrum_arbitrage_competiton_distance), max(arbitrum_arbitrage_competiton_distance))\n",
    "    fig.tight_layout()\n",
    "    plt.show()"
   ]
  },
  {
   "cell_type": "code",
   "execution_count": 129,
   "id": "4804a609",
   "metadata": {},
   "outputs": [
    {
     "name": "stdout",
     "output_type": "stream",
     "text": [
      "Percentage of arbitrage competition with a block distance of 0: 42.34734294945453\n",
      "Percentage of arbitrage competition with a block distance of 1: 24.67657118137699\n"
     ]
    }
   ],
   "source": [
    "arbitrum_arbitrage_zero_distance_percentage = arbitrum_arbitrage_competiton_distance.count(0) / len(arbitrum_arbitrage_competiton_distance) * 100.0\n",
    "arbitrum_arbitrage_one_distance_percentage = arbitrum_arbitrage_competiton_distance.count(1) / len(arbitrum_arbitrage_competiton_distance) * 100.0\n",
    "print(\"Percentage of arbitrage competition with a block distance of 0:\", arbitrum_arbitrage_zero_distance_percentage)\n",
    "print(\"Percentage of arbitrage competition with a block distance of 1:\", arbitrum_arbitrage_one_distance_percentage)"
   ]
  },
  {
   "cell_type": "code",
   "execution_count": 149,
   "id": "1732ab1f",
   "metadata": {},
   "outputs": [
    {
     "name": "stdout",
     "output_type": "stream",
     "text": [
      "Number of arbitrage competitors on Arbitrum: 989\n",
      "Average failure rate of arbitrage competitors on Arbitrum: 38.88641116193465\n"
     ]
    }
   ],
   "source": [
    "arbitrum_arbitrage_competitors = set()\n",
    "for competitors in arbitrum_arbitrage_opportunities_with_competition:\n",
    "    for competitor in competitors:\n",
    "        if competitor != None:\n",
    "            arbitrum_arbitrage_competitors.add(competitor)\n",
    "print(\"Number of arbitrage competitors on Arbitrum:\", len(arbitrum_arbitrage_competitors))\n",
    "failure_rate = list()\n",
    "for competitor in arbitrum_arbitrage_competitors:\n",
    "    response = requests.get(\"https://api.arbiscan.io/api?module=account&action=txlist&address=\"+competitor+\"&startblock=0&endblock=latest&page=1&offset=10000&sort=asc&apikey=\"+ARBISCAN_API_KEY)\n",
    "    successful, failed = 0, 0\n",
    "    for tx in response.json()[\"result\"]:\n",
    "        if tx[\"txreceipt_status\"] == \"1\":\n",
    "            successful += 1\n",
    "        else:\n",
    "            failed += 1\n",
    "    if len(response.json()[\"result\"]) > 0:\n",
    "        failure_rate.append(failed / len(response.json()[\"result\"]) * 100.0)\n",
    "    else:\n",
    "        failure_rate.append(0.0)\n",
    "if len(failure_rate) > 0:\n",
    "    print(\"Average failure rate of arbitrage competitors on Arbitrum:\", np.mean(failure_rate))"
   ]
  },
  {
   "cell_type": "markdown",
   "id": "22997c19",
   "metadata": {},
   "source": [
    "### Optimism"
   ]
  },
  {
   "cell_type": "code",
   "execution_count": 150,
   "id": "7013e68a",
   "metadata": {},
   "outputs": [
    {
     "name": "stdout",
     "output_type": "stream",
     "text": [
      "Number of arbitrages on Optimism with competition: 156590\n",
      "Minimum number of competitors for a single competition: 2\n",
      "Maximum number of competitors for a single competition: 9\n"
     ]
    },
    {
     "data": {
      "image/png": "[encoded data removed]",
      "text/plain": [
       "<Figure size 640x480 with 1 Axes>"
      ]
     },
     "metadata": {},
     "output_type": "display_data"
    }
   ],
   "source": [
    "opportunities = list(mongo_connection[\"optimism\"][\"mev_arbitrage_opportunities\"].find())\n",
    "swaps = dict()\n",
    "for i in range(len(opportunities)):\n",
    "    for opportunity in opportunities[i][\"opportunities\"]:\n",
    "        if opportunity[\"swap\"][\"block_number\"] != None:\n",
    "            if not opportunity[\"swap\"][\"block_number\"] in swaps:\n",
    "                swaps[opportunity[\"swap\"][\"block_number\"]] = set()\n",
    "            swaps[opportunity[\"swap\"][\"block_number\"]].add(opportunity[\"arbitrage\"][\"transaction_hash\"])\n",
    "                        \n",
    "optimism_arbitrage_opportunities_with_competition = list()\n",
    "optimism_arbitrage_competiton_sizes = list()\n",
    "optimism_arbitrage_competiton_distance = list()\n",
    "for block_number in swaps:\n",
    "    if len(swaps[block_number]) > 1:\n",
    "        competitors = dict()\n",
    "        for transaction_hash in swaps[block_number]:\n",
    "            arbitrage = mongo_connection[\"optimism\"][\"mev_arbitrage_results\"].find_one({\"transaction.hash\": transaction_hash})\n",
    "            if not arbitrage[\"transaction\"][\"to\"] in competitors:\n",
    "                competitors[arbitrage[\"transaction\"][\"to\"]] = list()\n",
    "            competitors[arbitrage[\"transaction\"][\"to\"]].append((transaction_hash, arbitrage[\"block_number\"]))\n",
    "        if len(competitors) > 1:\n",
    "            optimism_arbitrage_opportunities_with_competition.append(competitors)\n",
    "            optimism_arbitrage_competiton_sizes.append(len(competitors))\n",
    "            distances = list()\n",
    "            for competitor in competitors:\n",
    "                distances.append(min([number for _, number in competitors[competitor]]))\n",
    "            distances.sort()\n",
    "            first_block = distances[0]\n",
    "            for i in range(len(distances)-1):\n",
    "                optimism_arbitrage_competiton_distance.append(distances[i+1] - first_block) \n",
    "                \n",
    "print(\"Number of arbitrages on Optimism with competition:\", len(optimism_arbitrage_opportunities_with_competition))\n",
    "if len(optimism_arbitrage_competiton_sizes) > 0:\n",
    "    print(\"Minimum number of competitors for a single competition:\", min(optimism_arbitrage_competiton_sizes))\n",
    "    print(\"Maximum number of competitors for a single competition:\", max(optimism_arbitrage_competiton_sizes))\n",
    "    \n",
    "if len(optimism_arbitrage_competiton_distance) > 0:\n",
    "    fig, ax = plt.subplots()\n",
    "    ax.hist(optimism_arbitrage_competiton_distance, edgecolor='red', color='red', alpha=0.8, bins=max(optimism_arbitrage_competiton_distance))\n",
    "    ax.yaxis.set_major_formatter(mtick.PercentFormatter(len(optimism_arbitrage_competiton_distance)))\n",
    "    ax.set_xlabel('Block Distance')\n",
    "    ax.set_ylabel('Proportion')\n",
    "    ax.set_xlim(min(optimism_arbitrage_competiton_distance), max(optimism_arbitrage_competiton_distance))\n",
    "    fig.tight_layout()\n",
    "    plt.show()"
   ]
  },
  {
   "cell_type": "code",
   "execution_count": 151,
   "id": "965b3e66",
   "metadata": {},
   "outputs": [
    {
     "name": "stdout",
     "output_type": "stream",
     "text": [
      "Percentage of arbitrage competition with a block distance of 0: 5.297949458849771\n",
      "Percentage of arbitrage competition with a block distance of 1: 18.294679745519986\n"
     ]
    }
   ],
   "source": [
    "optimism_arbitrage_zero_distance_percentage = optimism_arbitrage_competiton_distance.count(0) / len(optimism_arbitrage_competiton_distance) * 100.0\n",
    "optimism_arbitrage_one_distance_percentage = optimism_arbitrage_competiton_distance.count(1) / len(optimism_arbitrage_competiton_distance) * 100.0\n",
    "print(\"Percentage of arbitrage competition with a block distance of 0:\", optimism_arbitrage_zero_distance_percentage)\n",
    "print(\"Percentage of arbitrage competition with a block distance of 1:\", optimism_arbitrage_one_distance_percentage)"
   ]
  },
  {
   "cell_type": "code",
   "execution_count": 156,
   "id": "a7c038d9",
   "metadata": {},
   "outputs": [
    {
     "name": "stdout",
     "output_type": "stream",
     "text": [
      "Number of arbitrage competitors on optimism: 505\n",
      "Average failure rate of arbitrage competitors on optimism: 29.27933030451606\n"
     ]
    }
   ],
   "source": [
    "optimism_arbitrage_competitors = set()\n",
    "for competitors in optimism_arbitrage_opportunities_with_competition:\n",
    "    for competitor in competitors:\n",
    "        if competitor != None:\n",
    "            optimism_arbitrage_competitors.add(competitor)\n",
    "print(\"Number of arbitrage competitors on optimism:\", len(optimism_arbitrage_competitors))\n",
    "failure_rate = list()\n",
    "for competitor in optimism_arbitrage_competitors:\n",
    "    response = requests.get(\"https://api-optimistic.etherscan.io/api?module=account&action=txlist&address=\"+competitor+\"&startblock=0&endblock=latest&page=1&offset=10000&sort=asc&apikey=\"+OPTIMISTIC_API_KEY)\n",
    "    successful, failed = 0, 0\n",
    "    for tx in response.json()[\"result\"]:\n",
    "        if tx[\"txreceipt_status\"] == \"1\":\n",
    "            successful += 1\n",
    "        else:\n",
    "            failed += 1\n",
    "    if len(response.json()[\"result\"]) > 0:\n",
    "        failure_rate.append(failed / len(response.json()[\"result\"]) * 100.0)\n",
    "    else:\n",
    "        failure_rate.append(0.0)\n",
    "if len(failure_rate) > 0:\n",
    "    print(\"Average failure rate of arbitrage competitors on optimism:\", np.mean(failure_rate))"
   ]
  },
  {
   "cell_type": "markdown",
   "id": "82ab37aa",
   "metadata": {},
   "source": [
    "### zkSync"
   ]
  },
  {
   "cell_type": "code",
   "execution_count": 65,
   "id": "7ae21966",
   "metadata": {},
   "outputs": [
    {
     "name": "stdout",
     "output_type": "stream",
     "text": [
      "Number of arbitrages on zkSync with competition: 4302\n",
      "Minimum number of competitors for a single competition: 2\n",
      "Maximum number of competitors for a single competition: 7\n"
     ]
    },
    {
     "data": {
      "image/png": "[encoded data removed]",
      "text/plain": [
       "<Figure size 640x480 with 1 Axes>"
      ]
     },
     "metadata": {},
     "output_type": "display_data"
    }
   ],
   "source": [
    "opportunities = list(mongo_connection[\"zksync\"][\"mev_arbitrage_opportunities\"].find())\n",
    "swaps = dict()\n",
    "for i in range(len(opportunities)):\n",
    "    for opportunity in opportunities[i][\"opportunities\"]:\n",
    "        if opportunity[\"swap\"][\"block_number\"] != None:\n",
    "            if not opportunity[\"swap\"][\"block_number\"] in swaps:\n",
    "                swaps[opportunity[\"swap\"][\"block_number\"]] = set()\n",
    "            swaps[opportunity[\"swap\"][\"block_number\"]].add(opportunity[\"arbitrage\"][\"transaction_hash\"])\n",
    "                        \n",
    "zksync_arbitrage_opportunities_with_competition = list()\n",
    "zksync_arbitrage_competiton_sizes = list()\n",
    "zksync_arbitrage_competiton_distance = list()\n",
    "for block_number in swaps:\n",
    "    if len(swaps[block_number]) > 1:\n",
    "        competitors = dict()\n",
    "        for transaction_hash in swaps[block_number]:\n",
    "            arbitrage = mongo_connection[\"zksync\"][\"mev_arbitrage_results\"].find_one({\"transaction.hash\": transaction_hash})\n",
    "            if not arbitrage[\"transaction\"][\"to\"] in competitors:\n",
    "                competitors[arbitrage[\"transaction\"][\"to\"]] = list()\n",
    "            competitors[arbitrage[\"transaction\"][\"to\"]].append((transaction_hash, arbitrage[\"block_number\"]))\n",
    "        if len(competitors) > 1:\n",
    "            zksync_arbitrage_opportunities_with_competition.append(competitors)\n",
    "            zksync_arbitrage_competiton_sizes.append(len(competitors))\n",
    "            distances = list()\n",
    "            for competitor in competitors:\n",
    "                distances.append(min([number for _, number in competitors[competitor]]))\n",
    "            distances.sort()\n",
    "            first_block = distances[0]\n",
    "            for i in range(len(distances)-1):\n",
    "                zksync_arbitrage_competiton_distance.append(distances[i+1] - first_block) \n",
    "                \n",
    "print(\"Number of arbitrages on zkSync with competition:\", len(zksync_arbitrage_opportunities_with_competition))\n",
    "if len(zksync_arbitrage_competiton_sizes) > 0:\n",
    "    print(\"Minimum number of competitors for a single competition:\", min(zksync_arbitrage_competiton_sizes))\n",
    "    print(\"Maximum number of competitors for a single competition:\", max(zksync_arbitrage_competiton_sizes))\n",
    "    \n",
    "if len(zksync_arbitrage_competiton_distance) > 0:\n",
    "    fig, ax = plt.subplots()\n",
    "    ax.hist(zksync_arbitrage_competiton_distance, edgecolor='black', color='black', alpha=0.8, bins=max(zksync_arbitrage_competiton_distance))\n",
    "    ax.yaxis.set_major_formatter(mtick.PercentFormatter(len(zksync_arbitrage_competiton_distance)))\n",
    "    ax.set_xlabel('Block Distance')\n",
    "    ax.set_ylabel('Proportion')\n",
    "    ax.set_xlim(min(zksync_arbitrage_competiton_distance), max(zksync_arbitrage_competiton_distance))\n",
    "    fig.tight_layout()\n",
    "    plt.show()"
   ]
  },
  {
   "cell_type": "code",
   "execution_count": 140,
   "id": "56043f4f",
   "metadata": {},
   "outputs": [
    {
     "name": "stdout",
     "output_type": "stream",
     "text": [
      "Percentage of arbitrage competition with a block distance of 0: 42.76633055677335\n",
      "Percentage of arbitrage competition with a block distance of 1: 22.42437527400263\n"
     ]
    }
   ],
   "source": [
    "zksync_arbitrage_zero_distance_percentage = 0\n",
    "zksync_arbitrage_one_distance_percentage = 0\n",
    "if len(zksync_arbitrage_competiton_distance):\n",
    "    zksync_arbitrage_zero_distance_percentage = zksync_arbitrage_competiton_distance.count(0) / len(zksync_arbitrage_competiton_distance) * 100.0\n",
    "    zksync_arbitrage_one_distance_percentage = zksync_arbitrage_competiton_distance.count(1) / len(zksync_arbitrage_competiton_distance) * 100.0\n",
    "print(\"Percentage of arbitrage competition with a block distance of 0:\", zksync_arbitrage_zero_distance_percentage)\n",
    "print(\"Percentage of arbitrage competition with a block distance of 1:\", zksync_arbitrage_one_distance_percentage)"
   ]
  },
  {
   "cell_type": "code",
   "execution_count": 141,
   "id": "feb55d51",
   "metadata": {},
   "outputs": [
    {
     "name": "stdout",
     "output_type": "stream",
     "text": [
      "Number of arbitrage competitors on zkSync: 90\n",
      "Average failure rate of arbitrage competitors on zkSync: 38.32997910060881\n"
     ]
    }
   ],
   "source": [
    "zksync_arbitrage_competitors = set()\n",
    "for competitors in zksync_arbitrage_opportunities_with_competition:\n",
    "    for competitor in competitors:\n",
    "        zksync_arbitrage_competitors.add(competitor)\n",
    "print(\"Number of arbitrage competitors on zkSync:\", len(zksync_arbitrage_competitors))\n",
    "failure_rate = list()\n",
    "for competitor in zksync_arbitrage_competitors:    \n",
    "    response = requests.get(\"https://block-explorer-api.mainnet.zksync.io/api?module=account&action=txlist&page=1&offset=1000&sort=asc&endblock=latest&startblock=0&address=\"+competitor)\n",
    "    successful, failed = 0, 0\n",
    "    for tx in response.json()[\"result\"]:\n",
    "        if tx[\"txreceipt_status\"] == \"1\":\n",
    "            successful += 1\n",
    "        else:\n",
    "            failed += 1\n",
    "    if len(response.json()[\"result\"]) > 0:\n",
    "        failure_rate.append(failed / len(response.json()[\"result\"]) * 100.0)\n",
    "    else:\n",
    "        failure_rate.append(0.0)\n",
    "if len(failure_rate) > 0:\n",
    "    print(\"Average failure rate of arbitrage competitors on zkSync:\", np.mean(failure_rate))"
   ]
  },
  {
   "cell_type": "markdown",
   "id": "ca1f224e",
   "metadata": {},
   "source": [
    "## Liquidation"
   ]
  },
  {
   "cell_type": "markdown",
   "id": "607944c5",
   "metadata": {},
   "source": [
    "### Ethereum"
   ]
  },
  {
   "cell_type": "code",
   "execution_count": 63,
   "id": "94a884dd",
   "metadata": {},
   "outputs": [
    {
     "name": "stdout",
     "output_type": "stream",
     "text": [
      "Number of liquidations on Ethereum with competition: 2782\n",
      "Minimum number of competitors for a single competition: 2\n",
      "Maximum number of competitors for a single competition: 10\n"
     ]
    },
    {
     "data": {
      "image/png": "[encoded data removed]",
      "text/plain": [
       "<Figure size 640x480 with 1 Axes>"
      ]
     },
     "metadata": {},
     "output_type": "display_data"
    }
   ],
   "source": [
    "opportunities = list(mongo_connection[\"ethereum\"][\"mev_liquidation_opportunities\"].find())\n",
    "oracle_updates = dict()\n",
    "for i in range(len(opportunities)):\n",
    "    for opportunity in opportunities[i][\"opportunities\"]:\n",
    "        if opportunity[\"oracle_update\"][\"block_number\"] != None:\n",
    "            if not opportunity[\"oracle_update\"][\"block_number\"] in oracle_updates:\n",
    "                oracle_updates[opportunity[\"oracle_update\"][\"block_number\"]] = set()\n",
    "            oracle_updates[opportunity[\"oracle_update\"][\"block_number\"]].add(opportunity[\"liquidation\"][\"transaction_hash\"])\n",
    "\n",
    "ethereum_liquidation_opportunities_with_competition = list()\n",
    "ethereum_liquidation_competiton_sizes = list()\n",
    "ethereum_liquidation_competiton_distance = list()\n",
    "for block_number in oracle_updates:\n",
    "    if len(oracle_updates[block_number]) > 1:\n",
    "        competitors = dict()\n",
    "        for transaction_hash in oracle_updates[block_number]:\n",
    "            liquidation = mongo_connection[\"ethereum\"][\"mev_liquidation_results\"].find_one({\"transaction.hash\": transaction_hash})\n",
    "            if not liquidation[\"transaction\"][\"to\"] in competitors:\n",
    "                competitors[liquidation[\"transaction\"][\"to\"]] = list()\n",
    "            competitors[liquidation[\"transaction\"][\"to\"]].append((transaction_hash, liquidation[\"block_number\"]))\n",
    "        if len(competitors) > 1:\n",
    "            ethereum_liquidation_opportunities_with_competition.append(competitors)\n",
    "            ethereum_liquidation_competiton_sizes.append(len(competitors))\n",
    "            distances = list()\n",
    "            for competitor in competitors:\n",
    "                distances.append(min([number for _, number in competitors[competitor]]))\n",
    "            distances.sort()\n",
    "            first_block = distances[0]\n",
    "            for i in range(len(distances)-1):\n",
    "                ethereum_liquidation_competiton_distance.append(distances[i+1] - first_block) \n",
    "                \n",
    "print(\"Number of liquidations on Ethereum with competition:\", len(ethereum_liquidation_opportunities_with_competition))\n",
    "if optimism_liquidation_competiton_sizes:\n",
    "    print(\"Minimum number of competitors for a single competition:\", min(ethereum_liquidation_competiton_sizes))\n",
    "    print(\"Maximum number of competitors for a single competition:\", max(ethereum_liquidation_competiton_sizes))\n",
    "\n",
    "if ethereum_liquidation_competiton_distance:\n",
    "    fig, ax = plt.subplots()\n",
    "    ax.hist(ethereum_liquidation_competiton_distance, edgecolor='purple', color='purple', alpha=0.8, bins=max(ethereum_liquidation_competiton_distance))\n",
    "    ax.yaxis.set_major_formatter(mtick.PercentFormatter(len(ethereum_liquidation_competiton_distance)))\n",
    "    ax.set_xlabel('Block Distance')\n",
    "    ax.set_ylabel('Proportion')\n",
    "    ax.set_xlim(min(ethereum_liquidation_competiton_distance), max(ethereum_liquidation_competiton_distance))\n",
    "    fig.tight_layout()\n",
    "    plt.show()"
   ]
  },
  {
   "cell_type": "code",
   "execution_count": 139,
   "id": "f2771b1a",
   "metadata": {},
   "outputs": [
    {
     "name": "stdout",
     "output_type": "stream",
     "text": [
      "Percentage of liquidation competition with a block distance of 0: 49.95052444092618\n",
      "Percentage of liquidation competition with a block distance of 1: 14.723926380368098\n"
     ]
    }
   ],
   "source": [
    "ethereum_liquidation_zero_distance_percentage = 0\n",
    "ethereum_liquidation_one_distance_percentage = 0\n",
    "if len(ethereum_liquidation_competiton_distance):\n",
    "    ethereum_liquidation_zero_distance_percentage = ethereum_liquidation_competiton_distance.count(0) / len(ethereum_liquidation_competiton_distance) * 100.0\n",
    "    ethereum_liquidation_one_distance_percentage = ethereum_liquidation_competiton_distance.count(1) / len(ethereum_liquidation_competiton_distance) * 100.0\n",
    "print(\"Percentage of liquidation competition with a block distance of 0:\", ethereum_liquidation_zero_distance_percentage)\n",
    "print(\"Percentage of liquidation competition with a block distance of 1:\", ethereum_liquidation_one_distance_percentage)"
   ]
  },
  {
   "cell_type": "code",
   "execution_count": 119,
   "id": "f2f25ac8",
   "metadata": {},
   "outputs": [
    {
     "name": "stdout",
     "output_type": "stream",
     "text": [
      "Number of liquidation competitors on Ethereum: 309\n",
      "Average failure rate of liquidation competitors on Ethereum: 16.78011114301525\n"
     ]
    }
   ],
   "source": [
    "ethereum_liquidation_competitors = set()\n",
    "for competitors in ethereum_liquidation_opportunities_with_competition:\n",
    "    for competitor in competitors:\n",
    "        ethereum_liquidation_competitors.add(competitor)\n",
    "print(\"Number of liquidation competitors on Ethereum:\", len(ethereum_liquidation_competitors))\n",
    "failure_rate = list()\n",
    "for competitor in ethereum_liquidation_competitors:    \n",
    "    response = requests.get(\"https://api.etherscan.io/api?module=account&action=txlist&address=\"+competitor+\"&startblock=0&endblock=latest&page=1&offset=10000&sort=asc&apikey=\"+ETHERSCAN_API_KEY)\n",
    "    successful, failed = 0, 0\n",
    "    for tx in response.json()[\"result\"]:\n",
    "        if tx[\"txreceipt_status\"] == \"1\":\n",
    "            successful += 1\n",
    "        else:\n",
    "            failed += 1\n",
    "    if len(response.json()[\"result\"]) > 0:\n",
    "        failure_rate.append(failed / len(response.json()[\"result\"]) * 100.0)\n",
    "    else:\n",
    "        failure_rate.append(0.0)\n",
    "print(\"Average failure rate of liquidation competitors on Ethereum:\", np.mean(failure_rate))"
   ]
  },
  {
   "cell_type": "markdown",
   "id": "813ec5f9",
   "metadata": {},
   "source": [
    "### Arbitrum"
   ]
  },
  {
   "cell_type": "code",
   "execution_count": 61,
   "id": "afcd8439",
   "metadata": {},
   "outputs": [
    {
     "name": "stdout",
     "output_type": "stream",
     "text": [
      "Number of liquidations on Arbitrum with competition: 120\n",
      "Minimum number of competitors for a single competition: 2\n",
      "Maximum number of competitors for a single competition: 5\n"
     ]
    },
    {
     "data": {
      "image/png": "[encoded data removed]",
      "text/plain": [
       "<Figure size 640x480 with 1 Axes>"
      ]
     },
     "metadata": {},
     "output_type": "display_data"
    }
   ],
   "source": [
    "opportunities = list(mongo_connection[\"arbitrum\"][\"mev_liquidation_opportunities\"].find())\n",
    "oracle_updates = dict()\n",
    "for i in range(len(opportunities)):\n",
    "    for opportunity in opportunities[i][\"opportunities\"]:\n",
    "        if opportunity[\"oracle_update\"][\"block_number\"] != None:\n",
    "            if not opportunity[\"oracle_update\"][\"block_number\"] in oracle_updates:\n",
    "                oracle_updates[opportunity[\"oracle_update\"][\"block_number\"]] = set()\n",
    "            oracle_updates[opportunity[\"oracle_update\"][\"block_number\"]].add(opportunity[\"liquidation\"][\"transaction_hash\"])\n",
    "\n",
    "arbitrum_liquidation_opportunities_with_competition = list()\n",
    "arbitrum_liquidation_competiton_sizes = list()\n",
    "arbitrum_liquidation_competiton_distance = list()\n",
    "for block_number in oracle_updates:\n",
    "    if len(oracle_updates[block_number]) > 1:\n",
    "        competitors = dict()\n",
    "        for transaction_hash in oracle_updates[block_number]:\n",
    "            liquidation = mongo_connection[\"arbitrum\"][\"mev_liquidation_results\"].find_one({\"transaction.hash\": transaction_hash})\n",
    "            if not liquidation[\"transaction\"][\"to\"] in competitors:\n",
    "                competitors[liquidation[\"transaction\"][\"to\"]] = list()\n",
    "            competitors[liquidation[\"transaction\"][\"to\"]].append((transaction_hash, liquidation[\"block_number\"]))\n",
    "        if len(competitors) > 1:\n",
    "            arbitrum_liquidation_opportunities_with_competition.append(competitors)\n",
    "            arbitrum_liquidation_competiton_sizes.append(len(competitors))\n",
    "            distances = list()\n",
    "            for competitor in competitors:\n",
    "                distances.append(min([number for _, number in competitors[competitor]]))\n",
    "            distances.sort()\n",
    "            first_block = distances[0]\n",
    "            for i in range(len(distances)-1):\n",
    "                arbitrum_liquidation_competiton_distance.append(distances[i+1] - first_block) \n",
    "                \n",
    "print(\"Number of liquidations on Arbitrum with competition:\", len(arbitrum_liquidation_opportunities_with_competition))\n",
    "if optimism_liquidation_competiton_sizes:\n",
    "    print(\"Minimum number of competitors for a single competition:\", min(arbitrum_liquidation_competiton_sizes))\n",
    "    print(\"Maximum number of competitors for a single competition:\", max(arbitrum_liquidation_competiton_sizes))\n",
    "\n",
    "if arbitrum_liquidation_competiton_distance:\n",
    "    fig, ax = plt.subplots()\n",
    "    ax.hist(arbitrum_liquidation_competiton_distance, edgecolor='LightBlue', color='LightBlue', alpha=0.8, bins=max(arbitrum_liquidation_competiton_distance))\n",
    "    ax.yaxis.set_major_formatter(mtick.PercentFormatter(len(arbitrum_liquidation_competiton_distance)))\n",
    "    ax.set_xlabel('Block Distance')\n",
    "    ax.set_ylabel('Proportion')\n",
    "    ax.set_xlim(min(arbitrum_liquidation_competiton_distance), max(arbitrum_liquidation_competiton_distance))\n",
    "    fig.tight_layout()\n",
    "    plt.show()"
   ]
  },
  {
   "cell_type": "code",
   "execution_count": 138,
   "id": "2295f79d",
   "metadata": {},
   "outputs": [
    {
     "name": "stdout",
     "output_type": "stream",
     "text": [
      "Percentage of liquidation competition with a block distance of 0: 18.439716312056735\n",
      "Percentage of liquidation competition with a block distance of 1: 16.312056737588655\n"
     ]
    }
   ],
   "source": [
    "arbitrum_liquidation_zero_distance_percentage = 0\n",
    "arbitrum_liquidation_one_distance_percentage = 0\n",
    "if len(arbitrum_liquidation_competiton_distance):\n",
    "    arbitrum_liquidation_zero_distance_percentage = arbitrum_liquidation_competiton_distance.count(0) / len(arbitrum_liquidation_competiton_distance) * 100.0\n",
    "    arbitrum_liquidation_one_distance_percentage = arbitrum_liquidation_competiton_distance.count(1) / len(arbitrum_liquidation_competiton_distance) * 100.0\n",
    "print(\"Percentage of liquidation competition with a block distance of 0:\", arbitrum_liquidation_zero_distance_percentage)\n",
    "print(\"Percentage of liquidation competition with a block distance of 1:\", arbitrum_liquidation_one_distance_percentage)"
   ]
  },
  {
   "cell_type": "code",
   "execution_count": 124,
   "id": "079f4b2c",
   "metadata": {},
   "outputs": [
    {
     "name": "stdout",
     "output_type": "stream",
     "text": [
      "Number of liquidation competitors on Arbitrum: 40\n",
      "Average failure rate of liquidation competitors on Arbitrum: 28.831711879807678\n"
     ]
    }
   ],
   "source": [
    "arbitrum_liquidation_competitors = set()\n",
    "for competitors in arbitrum_liquidation_opportunities_with_competition:\n",
    "    for competitor in competitors:\n",
    "        arbitrum_liquidation_competitors.add(competitor)\n",
    "print(\"Number of liquidation competitors on Arbitrum:\", len(arbitrum_liquidation_competitors))\n",
    "failure_rate = list()\n",
    "for competitor in arbitrum_liquidation_competitors:    \n",
    "    response = requests.get(\"https://api.arbiscan.io/api?module=account&action=txlist&address=\"+competitor+\"&startblock=0&endblock=latest&page=1&offset=10000&sort=asc&apikey=\"+ARBISCAN_API_KEY)\n",
    "    successful, failed = 0, 0\n",
    "    for tx in response.json()[\"result\"]:\n",
    "        if tx[\"txreceipt_status\"] == \"1\":\n",
    "            successful += 1\n",
    "        else:\n",
    "            failed += 1\n",
    "    if len(response.json()[\"result\"]) > 0:\n",
    "        failure_rate.append(failed / len(response.json()[\"result\"]) * 100.0)\n",
    "    else:\n",
    "        failure_rate.append(0.0)\n",
    "if len(failure_rate) > 0:\n",
    "    print(\"Average failure rate of liquidation competitors on Arbitrum:\", np.mean(failure_rate))"
   ]
  },
  {
   "cell_type": "markdown",
   "id": "31defc72",
   "metadata": {},
   "source": [
    "### Optimism"
   ]
  },
  {
   "cell_type": "code",
   "execution_count": 60,
   "id": "05a337c0",
   "metadata": {},
   "outputs": [
    {
     "name": "stdout",
     "output_type": "stream",
     "text": [
      "Number of liquidations on Optimism with competition: 123\n",
      "Minimum number of competitors for a single competition: 2\n",
      "Maximum number of competitors for a single competition: 5\n"
     ]
    },
    {
     "data": {
      "image/png": "[encoded data removed]",
      "text/plain": [
       "<Figure size 640x480 with 1 Axes>"
      ]
     },
     "metadata": {},
     "output_type": "display_data"
    }
   ],
   "source": [
    "opportunities = list(mongo_connection[\"optimism\"][\"mev_liquidation_opportunities\"].find())\n",
    "oracle_updates = dict()\n",
    "for i in range(len(opportunities)):\n",
    "    for opportunity in opportunities[i][\"opportunities\"]:\n",
    "        if opportunity[\"oracle_update\"][\"block_number\"] != None:\n",
    "            if not opportunity[\"oracle_update\"][\"block_number\"] in oracle_updates:\n",
    "                oracle_updates[opportunity[\"oracle_update\"][\"block_number\"]] = set()\n",
    "            oracle_updates[opportunity[\"oracle_update\"][\"block_number\"]].add(opportunity[\"liquidation\"][\"transaction_hash\"])\n",
    "\n",
    "optimism_liquidation_opportunities_with_competition = list()\n",
    "optimism_liquidation_competiton_sizes = list()\n",
    "optimism_liquidation_competiton_distance = list()\n",
    "for block_number in oracle_updates:\n",
    "    if len(oracle_updates[block_number]) > 1:\n",
    "        competitors = dict()\n",
    "        for transaction_hash in oracle_updates[block_number]:\n",
    "            liquidation = mongo_connection[\"optimism\"][\"mev_liquidation_results\"].find_one({\"transaction.hash\": transaction_hash})\n",
    "            if not liquidation[\"transaction\"][\"to\"] in competitors:\n",
    "                competitors[liquidation[\"transaction\"][\"to\"]] = list()\n",
    "            competitors[liquidation[\"transaction\"][\"to\"]].append((transaction_hash, liquidation[\"block_number\"]))\n",
    "        if len(competitors) > 1:\n",
    "            optimism_liquidation_opportunities_with_competition.append(competitors)\n",
    "            optimism_liquidation_competiton_sizes.append(len(competitors))\n",
    "            distances = list()\n",
    "            for competitor in competitors:\n",
    "                distances.append(min([number for _, number in competitors[competitor]]))\n",
    "            distances.sort()\n",
    "            first_block = distances[0]\n",
    "            for i in range(len(distances)-1):\n",
    "                optimism_liquidation_competiton_distance.append(distances[i+1] - first_block) \n",
    "                \n",
    "print(\"Number of liquidations on Optimism with competition:\", len(optimism_liquidation_opportunities_with_competition))\n",
    "if len(optimism_liquidation_competiton_sizes) > 0:\n",
    "    print(\"Minimum number of competitors for a single competition:\", min(optimism_liquidation_competiton_sizes))\n",
    "    print(\"Maximum number of competitors for a single competition:\", max(optimism_liquidation_competiton_sizes))\n",
    "    \n",
    "if len(optimism_liquidation_competiton_distance) > 0:\n",
    "    fig, ax = plt.subplots()\n",
    "    ax.hist(optimism_liquidation_competiton_distance, edgecolor='red', color='red', alpha=0.8, bins=max(optimism_liquidation_competiton_distance))\n",
    "    ax.yaxis.set_major_formatter(mtick.PercentFormatter(len(optimism_liquidation_competiton_distance)))\n",
    "    ax.set_xlabel('Block Distance')\n",
    "    ax.set_ylabel('Proportion')\n",
    "    ax.set_xlim(min(optimism_liquidation_competiton_distance), max(optimism_liquidation_competiton_distance))\n",
    "    fig.tight_layout()\n",
    "    plt.show()"
   ]
  },
  {
   "cell_type": "code",
   "execution_count": 137,
   "id": "be11ce19",
   "metadata": {},
   "outputs": [
    {
     "name": "stdout",
     "output_type": "stream",
     "text": [
      "Percentage of liquidation competition with a block distance of 0: 12.5\n",
      "Percentage of liquidation competition with a block distance of 1: 18.055555555555554\n"
     ]
    }
   ],
   "source": [
    "optimism_liquidation_zero_distance_percentage = 0\n",
    "optimism_liquidation_one_distance_percentage = 0\n",
    "if len(optimism_liquidation_competiton_distance):\n",
    "    optimism_liquidation_zero_distance_percentage = optimism_liquidation_competiton_distance.count(0) / len(optimism_liquidation_competiton_distance) * 100.0\n",
    "    optimism_liquidation_one_distance_percentage = optimism_liquidation_competiton_distance.count(1) / len(optimism_liquidation_competiton_distance) * 100.0\n",
    "print(\"Percentage of liquidation competition with a block distance of 0:\", optimism_liquidation_zero_distance_percentage)\n",
    "print(\"Percentage of liquidation competition with a block distance of 1:\", optimism_liquidation_one_distance_percentage)"
   ]
  },
  {
   "cell_type": "code",
   "execution_count": 126,
   "id": "a7c36ad7",
   "metadata": {},
   "outputs": [
    {
     "name": "stdout",
     "output_type": "stream",
     "text": [
      "Number of liquidation competitors on Optimism: 40\n",
      "Average failure rate of liquidation competitors on Optimism: 27.419705647494016\n"
     ]
    }
   ],
   "source": [
    "optimism_liquidation_competitors = set()\n",
    "for competitors in optimism_liquidation_opportunities_with_competition:\n",
    "    for competitor in competitors:\n",
    "        optimism_liquidation_competitors.add(competitor)\n",
    "print(\"Number of liquidation competitors on Optimism:\", len(optimism_liquidation_competitors))\n",
    "failure_rate = list()\n",
    "for competitor in optimism_liquidation_competitors:    \n",
    "    response = requests.get(\"https://api-optimistic.etherscan.io/api?module=account&action=txlist&address=\"+competitor+\"&startblock=0&endblock=latest&page=1&offset=10000&sort=asc&apikey=\"+OPTIMISTIC_API_KEY)\n",
    "    successful, failed = 0, 0\n",
    "    for tx in response.json()[\"result\"]:\n",
    "        if tx[\"txreceipt_status\"] == \"1\":\n",
    "            successful += 1\n",
    "        else:\n",
    "            failed += 1\n",
    "    if len(response.json()[\"result\"]) > 0:\n",
    "        failure_rate.append(failed / len(response.json()[\"result\"]) * 100.0)\n",
    "    else:\n",
    "        failure_rate.append(0.0)\n",
    "if len(failure_rate) > 0:\n",
    "    print(\"Average failure rate of liquidation competitors on Optimism:\", np.mean(failure_rate))"
   ]
  },
  {
   "cell_type": "markdown",
   "id": "ba427f0b",
   "metadata": {},
   "source": [
    "### zkSync"
   ]
  },
  {
   "cell_type": "code",
   "execution_count": 58,
   "id": "006fd32f",
   "metadata": {},
   "outputs": [
    {
     "name": "stdout",
     "output_type": "stream",
     "text": [
      "Number of liquidations on zkSync with competition: 0\n"
     ]
    }
   ],
   "source": [
    "opportunities = list(mongo_connection[\"zksync\"][\"mev_liquidation_opportunities\"].find())\n",
    "oracle_updates = dict()\n",
    "for i in range(len(opportunities)):\n",
    "    for opportunity in opportunities[i][\"opportunities\"]:\n",
    "        if opportunity[\"oracle_update\"][\"block_number\"] != None:\n",
    "            if not opportunity[\"oracle_update\"][\"block_number\"] in oracle_updates:\n",
    "                oracle_updates[opportunity[\"oracle_update\"][\"block_number\"]] = set()\n",
    "            oracle_updates[opportunity[\"oracle_update\"][\"block_number\"]].add(opportunity[\"liquidation\"][\"transaction_hash\"])\n",
    "                        \n",
    "zksync_liquidation_opportunities_with_competition = list()\n",
    "zksync_liquidation_competiton_sizes = list()\n",
    "zksync_liquidation_competiton_distance = list()\n",
    "for block_number in oracle_updates:\n",
    "    if len(oracle_updates[block_number]) > 1:\n",
    "        competitors = dict()\n",
    "        for transaction_hash in oracle_updates[block_number]:\n",
    "            liquidation = mongo_connection[\"zksync\"][\"mev_liquidation_results\"].find_one({\"transaction.hash\": transaction_hash})\n",
    "            if not liquidation[\"transaction\"][\"to\"] in competitors:\n",
    "                competitors[liquidation[\"transaction\"][\"to\"]] = list()\n",
    "            competitors[liquidation[\"transaction\"][\"to\"]].append((transaction_hash, liquidation[\"block_number\"]))\n",
    "        if len(competitors) > 1:\n",
    "            zksync_liquidation_opportunities_with_competition.append(competitors)\n",
    "            zksync_liquidation_competiton_sizes.append(len(competitors))\n",
    "            distances = list()\n",
    "            for competitor in competitors:\n",
    "                distances.append(min([number for _, number in competitors[competitor]]))\n",
    "            distances.sort()\n",
    "            first_block = distances[0]\n",
    "            for i in range(len(distances)-1):\n",
    "                zksync_liquidation_competiton_distance.append(distances[i+1] - first_block) \n",
    "                \n",
    "print(\"Number of liquidations on zkSync with competition:\", len(zksync_liquidation_opportunities_with_competition))\n",
    "if len(zksync_liquidation_competiton_sizes) > 0:\n",
    "    print(\"Minimum number of competitors for a single competition:\", min(zksync_liquidation_competiton_sizes))\n",
    "    print(\"Maximum number of competitors for a single competition:\", max(zksync_liquidation_competiton_sizes))\n",
    "    \n",
    "if len(zksync_liquidation_competiton_distance) > 0:\n",
    "    fig, ax = plt.subplots()\n",
    "    ax.hist(zksync_liquidation_competiton_distance, edgecolor='black', color='black', alpha=0.8, bins=max(zksync_liquidation_competiton_distance))\n",
    "    ax.yaxis.set_major_formatter(mtick.PercentFormatter(len(zksync_liquidation_competiton_distance)))\n",
    "    ax.set_xlabel('Block Distance')\n",
    "    ax.set_ylabel('Proportion')\n",
    "    ax.set_xlim(min(zksync_liquidation_competiton_distance), max(zksync_liquidation_competiton_distance))\n",
    "    fig.tight_layout()\n",
    "    plt.show()"
   ]
  },
  {
   "cell_type": "code",
   "execution_count": 136,
   "id": "6f1bdf1c",
   "metadata": {},
   "outputs": [
    {
     "name": "stdout",
     "output_type": "stream",
     "text": [
      "Percentage of liquidation competition with a block distance of 0: 0\n",
      "Percentage of liquidation competition with a block distance of 1: 0\n"
     ]
    }
   ],
   "source": [
    "zksync_liquidation_zero_distance_percentage = 0\n",
    "zksync_liquidation_one_distance_percentage = 0\n",
    "if len(zksync_liquidation_competiton_distance):\n",
    "    zksync_liquidation_zero_distance_percentage = zksync_liquidation_competiton_distance.count(0) / len(zksync_liquidation_competiton_distance) * 100.0\n",
    "    zksync_liquidation_one_distance_percentage = zksync_liquidation_competiton_distance.count(1) / len(zksync_liquidation_competiton_distance) * 100.0\n",
    "print(\"Percentage of liquidation competition with a block distance of 0:\", zksync_liquidation_zero_distance_percentage)\n",
    "print(\"Percentage of liquidation competition with a block distance of 1:\", zksync_liquidation_one_distance_percentage)"
   ]
  },
  {
   "cell_type": "code",
   "execution_count": 133,
   "id": "9507eba2",
   "metadata": {},
   "outputs": [
    {
     "name": "stdout",
     "output_type": "stream",
     "text": [
      "Number of liquidation competitors on zkSync: 0\n"
     ]
    }
   ],
   "source": [
    "zksync_liquidation_competitors = set()\n",
    "for competitors in zksync_liquidation_opportunities_with_competition:\n",
    "    for competitor in competitors:\n",
    "        zksync_liquidation_competitors.add(competitor)\n",
    "print(\"Number of liquidation competitors on zkSync:\", len(zksync_liquidation_competitors))\n",
    "failure_rate = list()\n",
    "for competitor in zksync_liquidation_competitors:    \n",
    "    response = requests.get(\"https://block-explorer-api.mainnet.zksync.io/api?module=account&action=txlist&page=1&offset=1000&sort=asc&endblock=latest&startblock=0&address=\"+competitor)\n",
    "    successful, failed = 0, 0\n",
    "    for tx in response.json()[\"result\"]:\n",
    "        if tx[\"txreceipt_status\"] == \"1\":\n",
    "            successful += 1\n",
    "        else:\n",
    "            failed += 1\n",
    "    if len(response.json()[\"result\"]) > 0:\n",
    "        failure_rate.append(failed / len(response.json()[\"result\"]) * 100.0)\n",
    "    else:\n",
    "        failure_rate.append(0.0)\n",
    "if len(failure_rate) > 0:\n",
    "    print(\"Average failure rate of liquidation competitors on zkSync:\", np.mean(failure_rate))"
   ]
  }
 ],
 "metadata": {
  "kernelspec": {
   "display_name": "Python 3 (ipykernel)",
   "language": "python",
   "name": "python3"
  },
  "language_info": {
   "codemirror_mode": {
    "name": "ipython",
    "version": 3
   },
   "file_extension": ".py",
   "mimetype": "text/x-python",
   "name": "python",
   "nbconvert_exporter": "python",
   "pygments_lexer": "ipython3",
   "version": "3.10.12"
  }
 },
 "nbformat": 4,
 "nbformat_minor": 5
}
