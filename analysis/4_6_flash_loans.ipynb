{
 "cells": [
  {
   "cell_type": "code",
   "execution_count": 1,
   "id": "5d013a5f",
   "metadata": {},
   "outputs": [],
   "source": [
    "import pymongo\n",
    "import numpy as np\n",
    "import matplotlib.pyplot as plt\n",
    "\n",
    "from matplotlib.patches import Patch\n",
    "\n",
    "MONGO_HOST = \"localhost\"\n",
    "MONGO_PORT = 27017\n",
    "\n",
    "mongo_connection = pymongo.MongoClient(\"mongodb://\"+MONGO_HOST+\":\"+str(MONGO_PORT), maxPoolSize=None)"
   ]
  },
  {
   "cell_type": "markdown",
   "id": "4cbf4ecf",
   "metadata": {},
   "source": [
    "### Arbitrage"
   ]
  },
  {
   "cell_type": "code",
   "execution_count": 2,
   "id": "74b45f88",
   "metadata": {},
   "outputs": [],
   "source": [
    "ethereum_arbitrage_txs = mongo_connection[\"ethereum\"][\"mev_arbitrage_results\"].count_documents({})\n",
    "ethereum_arbitrage_flash_loan_txs = 0\n",
    "ethereum_arbitrage_flash_loan_platforms = {\n",
    "    \"Aave\": 0,\n",
    "    \"Balancer\": 0,\n",
    "}\n",
    "cursor = mongo_connection[\"ethereum\"][\"mev_arbitrage_results\"].find({\"flash_loans\": {\"$exists\": True, \"$ne\": []}})\n",
    "for document in cursor:\n",
    "    for flash_loan in document[\"flash_loans\"]:\n",
    "        if flash_loan[\"platform_name\"].startswith(\"Aave\"):\n",
    "            ethereum_arbitrage_flash_loan_txs += 1\n",
    "            ethereum_arbitrage_flash_loan_platforms[\"Aave\"] += 1\n",
    "        if flash_loan[\"platform_name\"] in [\"Balancer\"]:\n",
    "            ethereum_arbitrage_flash_loan_txs += 1\n",
    "            ethereum_arbitrage_flash_loan_platforms[\"Balancer\"] += 1"
   ]
  },
  {
   "cell_type": "code",
   "execution_count": 3,
   "id": "375c3ed8",
   "metadata": {},
   "outputs": [
    {
     "name": "stdout",
     "output_type": "stream",
     "text": [
      "Number of arbitrage transactions on Ethereum: 2901740\n",
      "Number of arbitrage transactions on Ethereum with flash loans: 6663\n",
      "Number of arbitrage transactions on Ethereum with Aave flash loans: 2164\n",
      "Number of arbitrage transactions on Ethereum with Balancer flash loans: 4499\n"
     ]
    }
   ],
   "source": [
    "print(\"Number of arbitrage transactions on Ethereum:\", ethereum_arbitrage_txs)\n",
    "print(\"Number of arbitrage transactions on Ethereum with flash loans:\", ethereum_arbitrage_flash_loan_txs)\n",
    "print(\"Number of arbitrage transactions on Ethereum with Aave flash loans:\", ethereum_arbitrage_flash_loan_platforms[\"Aave\"])\n",
    "print(\"Number of arbitrage transactions on Ethereum with Balancer flash loans:\", ethereum_arbitrage_flash_loan_platforms[\"Balancer\"])"
   ]
  },
  {
   "cell_type": "code",
   "execution_count": 4,
   "id": "50a4b611",
   "metadata": {},
   "outputs": [],
   "source": [
    "arbitrum_arbitrage_txs = mongo_connection[\"arbitrum\"][\"mev_arbitrage_results\"].count_documents({})\n",
    "arbitrum_arbitrage_flash_loan_txs = 0\n",
    "arbitrum_arbitrage_flash_loan_platforms = {\n",
    "    \"Aave\": 0,\n",
    "    \"Balancer\": 0,\n",
    "}\n",
    "cursor = mongo_connection[\"arbitrum\"][\"mev_arbitrage_results\"].find({\"flash_loans\": {\"$exists\": True, \"$ne\": []}})\n",
    "for document in cursor:\n",
    "    for flash_loan in document[\"flash_loans\"]:\n",
    "        if flash_loan[\"platform_name\"].startswith(\"Aave\"):\n",
    "            arbitrum_arbitrage_flash_loan_txs += 1\n",
    "            arbitrum_arbitrage_flash_loan_platforms[\"Aave\"] += 1\n",
    "        if flash_loan[\"platform_name\"] in [\"Balancer\"]:\n",
    "            arbitrum_arbitrage_flash_loan_txs += 1\n",
    "            arbitrum_arbitrage_flash_loan_platforms[\"Balancer\"] += 1"
   ]
  },
  {
   "cell_type": "code",
   "execution_count": 5,
   "id": "960ae2da",
   "metadata": {},
   "outputs": [
    {
     "name": "stdout",
     "output_type": "stream",
     "text": [
      "Number of arbitrage transactions on Arbitrum: 1746083\n",
      "Number of arbitrage transactions on Arbitrum with flash loans: 117187\n",
      "Number of arbitrage transactions on Arbitrum with Aave flash loans: 3692\n",
      "Number of arbitrage transactions on Arbitrum with Balancer flash loans: 113495\n"
     ]
    }
   ],
   "source": [
    "print(\"Number of arbitrage transactions on Arbitrum:\", arbitrum_arbitrage_txs)\n",
    "print(\"Number of arbitrage transactions on Arbitrum with flash loans:\", arbitrum_arbitrage_flash_loan_txs)\n",
    "print(\"Number of arbitrage transactions on Arbitrum with Aave flash loans:\", arbitrum_arbitrage_flash_loan_platforms[\"Aave\"])\n",
    "print(\"Number of arbitrage transactions on Arbitrum with Balancer flash loans:\", arbitrum_arbitrage_flash_loan_platforms[\"Balancer\"])"
   ]
  },
  {
   "cell_type": "code",
   "execution_count": 6,
   "id": "6015c266",
   "metadata": {},
   "outputs": [],
   "source": [
    "optimism_arbitrage_txs = mongo_connection[\"optimism\"][\"mev_arbitrage_results\"].count_documents({})\n",
    "optimism_arbitrage_flash_loan_txs = 0\n",
    "optimism_arbitrage_flash_loan_platforms = {\n",
    "    \"Aave\": 0,\n",
    "    \"Balancer\": 0,\n",
    "}\n",
    "cursor = mongo_connection[\"optimism\"][\"mev_arbitrage_results\"].find({\"flash_loans\": {\"$exists\": True, \"$ne\": []}})\n",
    "for document in cursor:\n",
    "    for flash_loan in document[\"flash_loans\"]:\n",
    "        if flash_loan[\"platform_name\"].startswith(\"Aave\"):\n",
    "            optimism_arbitrage_flash_loan_txs += 1\n",
    "            optimism_arbitrage_flash_loan_platforms[\"Aave\"] += 1\n",
    "        if flash_loan[\"platform_name\"] in [\"Balancer\"]:\n",
    "            optimism_arbitrage_flash_loan_txs += 1\n",
    "            optimism_arbitrage_flash_loan_platforms[\"Balancer\"] += 1"
   ]
  },
  {
   "cell_type": "code",
   "execution_count": 7,
   "id": "977e727b",
   "metadata": {},
   "outputs": [
    {
     "name": "stdout",
     "output_type": "stream",
     "text": [
      "Number of arbitrage transactions on Optimism: 1153366\n",
      "Number of arbitrage transactions on Optimism with flash loans: 152499\n",
      "Number of arbitrage transactions on Optimism with Aave flash loans: 311\n",
      "Number of arbitrage transactions on Optimism with Balancer flash loans: 152188\n"
     ]
    }
   ],
   "source": [
    "print(\"Number of arbitrage transactions on Optimism:\", optimism_arbitrage_txs)\n",
    "print(\"Number of arbitrage transactions on Optimism with flash loans:\", optimism_arbitrage_flash_loan_txs)\n",
    "print(\"Number of arbitrage transactions on Optimism with Aave flash loans:\", optimism_arbitrage_flash_loan_platforms[\"Aave\"])\n",
    "print(\"Number of arbitrage transactions on Optimism with Balancer flash loans:\", optimism_arbitrage_flash_loan_platforms[\"Balancer\"])"
   ]
  },
  {
   "cell_type": "code",
   "execution_count": 8,
   "id": "36212b97",
   "metadata": {},
   "outputs": [],
   "source": [
    "zksync_arbitrage_txs = mongo_connection[\"zksync\"][\"mev_arbitrage_results\"].count_documents({})\n",
    "zksync_arbitrage_flash_loan_txs = 0\n",
    "zksync_arbitrage_flash_loan_platforms = {\n",
    "    \"Aave\": 0,\n",
    "    \"Balancer\": 0,\n",
    "}\n",
    "cursor = mongo_connection[\"zksync\"][\"mev_arbitrage_results\"].find({\"flash_loans\": {\"$exists\": True, \"$ne\": []}})\n",
    "for document in cursor:\n",
    "    for flash_loan in document[\"flash_loans\"]:\n",
    "        if flash_loan[\"platform_name\"].startswith(\"Aave\"):\n",
    "            zksync_arbitrage_flash_loan_txs += 1\n",
    "            zksync_arbitrage_flash_loan_platforms[\"Aave\"] += 1\n",
    "        if flash_loan[\"platform_name\"] in [\"Balancer\"]:\n",
    "            zksync_arbitrage_flash_loan_txs += 1\n",
    "            zksync_arbitrage_flash_loan_platforms[\"Balancer\"] += 1"
   ]
  },
  {
   "cell_type": "code",
   "execution_count": 9,
   "id": "c4bb8156",
   "metadata": {},
   "outputs": [
    {
     "name": "stdout",
     "output_type": "stream",
     "text": [
      "Number of arbitrage transactions on zkSync: 108070\n",
      "Number of arbitrage transactions on zkSync with flash loans: 0\n",
      "Number of arbitrage transactions on zkSync with Aave flash loans: 0\n",
      "Number of arbitrage transactions on zkSync with Balancer flash loans: 0\n"
     ]
    }
   ],
   "source": [
    "print(\"Number of arbitrage transactions on zkSync:\", zksync_arbitrage_txs)\n",
    "print(\"Number of arbitrage transactions on zkSync with flash loans:\", zksync_arbitrage_flash_loan_txs)\n",
    "print(\"Number of arbitrage transactions on zkSync with Aave flash loans:\", zksync_arbitrage_flash_loan_platforms[\"Aave\"])\n",
    "print(\"Number of arbitrage transactions on zkSync with Balancer flash loans:\", zksync_arbitrage_flash_loan_platforms[\"Balancer\"])"
   ]
  },
  {
   "cell_type": "markdown",
   "id": "a0e74d57",
   "metadata": {},
   "source": [
    "### Liquidation"
   ]
  },
  {
   "cell_type": "code",
   "execution_count": 10,
   "id": "b79ccb5b",
   "metadata": {},
   "outputs": [],
   "source": [
    "ethereum_liquidation_txs = mongo_connection[\"ethereum\"][\"mev_liquidation_results\"].count_documents({})\n",
    "ethereum_liquidation_flash_loan_txs = 0\n",
    "ethereum_liquidation_flash_loan_platforms = {\n",
    "    \"Aave\": 0,\n",
    "    \"Balancer\": 0,\n",
    "}\n",
    "cursor = mongo_connection[\"ethereum\"][\"mev_liquidation_results\"].find({\"liquidations.flash_loan\": {\"$ne\": None}})\n",
    "for document in cursor:\n",
    "    for liquidation in document[\"liquidations\"]:\n",
    "        if liquidation[\"flash_loan\"][\"platform_name\"].startswith(\"Aave\"):\n",
    "            ethereum_liquidation_flash_loan_txs += 1\n",
    "            ethereum_liquidation_flash_loan_platforms[\"Aave\"] += 1\n",
    "        if liquidation[\"flash_loan\"][\"platform_name\"] in [\"Balancer\"]:\n",
    "            ethereum_liquidation_flash_loan_txs += 1\n",
    "            ethereum_liquidation_flash_loan_platforms[\"Balancer\"] += 1"
   ]
  },
  {
   "cell_type": "code",
   "execution_count": 11,
   "id": "f6eba542",
   "metadata": {},
   "outputs": [
    {
     "name": "stdout",
     "output_type": "stream",
     "text": [
      "Number of liquidation transactions on Ethereum: 54772\n",
      "Number of liquidation transactions on Ethereum with flash loans: 3089\n",
      "Number of liquidation transactions on Ethereum with Aave flash loans: 2640\n",
      "Number of liquidation transactions on Ethereum with Balancer flash loans: 449\n"
     ]
    }
   ],
   "source": [
    "print(\"Number of liquidation transactions on Ethereum:\", ethereum_liquidation_txs)\n",
    "print(\"Number of liquidation transactions on Ethereum with flash loans:\", ethereum_liquidation_flash_loan_txs)\n",
    "print(\"Number of liquidation transactions on Ethereum with Aave flash loans:\", ethereum_liquidation_flash_loan_platforms[\"Aave\"])\n",
    "print(\"Number of liquidation transactions on Ethereum with Balancer flash loans:\", ethereum_liquidation_flash_loan_platforms[\"Balancer\"])"
   ]
  },
  {
   "cell_type": "code",
   "execution_count": 12,
   "id": "077dbbe1",
   "metadata": {},
   "outputs": [],
   "source": [
    "arbitrum_liquidation_txs = mongo_connection[\"arbitrum\"][\"mev_liquidation_results\"].count_documents({})\n",
    "arbitrum_liquidation_flash_loan_txs = 0\n",
    "arbitrum_liquidation_flash_loan_platforms = {\n",
    "    \"Aave\": 0,\n",
    "    \"Balancer\": 0\n",
    "}\n",
    "cursor = mongo_connection[\"arbitrum\"][\"mev_liquidation_results\"].find({\"liquidations.flash_loan\": {\"$ne\": None}})\n",
    "for document in cursor:\n",
    "    for liquidation in document[\"liquidations\"]:\n",
    "        if liquidation[\"flash_loan\"][\"platform_name\"] in [\"Aave\", \"Radiant\"]:\n",
    "            arbitrum_liquidation_flash_loan_platforms[\"Aave\"] += 1\n",
    "            arbitrum_liquidation_flash_loan_txs += 1\n",
    "        if liquidation[\"flash_loan\"][\"platform_name\"] in [\"Balancer\"]:\n",
    "            arbitrum_liquidation_flash_loan_platforms[\"Balancer\"] += 1\n",
    "            arbitrum_liquidation_flash_loan_txs += 1"
   ]
  },
  {
   "cell_type": "code",
   "execution_count": 13,
   "id": "568a9e36",
   "metadata": {},
   "outputs": [
    {
     "name": "stdout",
     "output_type": "stream",
     "text": [
      "Number of liquidation transactions on Arbitrum: 5277\n",
      "Number of liquidation transactions on Arbitrum with flash loans: 2583\n",
      "Number of liquidation transactions on Arbitrum with Aave flash loans: 2099\n",
      "Number of liquidation transactions on Arbitrum with Balancer flash loans: 484\n"
     ]
    }
   ],
   "source": [
    "print(\"Number of liquidation transactions on Arbitrum:\", arbitrum_liquidation_txs)\n",
    "print(\"Number of liquidation transactions on Arbitrum with flash loans:\", arbitrum_liquidation_flash_loan_txs)\n",
    "print(\"Number of liquidation transactions on Arbitrum with Aave flash loans:\", arbitrum_liquidation_flash_loan_platforms[\"Aave\"])\n",
    "print(\"Number of liquidation transactions on Arbitrum with Balancer flash loans:\", arbitrum_liquidation_flash_loan_platforms[\"Balancer\"])"
   ]
  },
  {
   "cell_type": "code",
   "execution_count": 14,
   "id": "5c504523",
   "metadata": {},
   "outputs": [],
   "source": [
    "optimism_liquidation_txs = mongo_connection[\"optimism\"][\"mev_liquidation_results\"].count_documents({})\n",
    "optimism_liquidation_flash_loan_txs = 0\n",
    "optimism_liquidation_flash_loan_platforms = {\n",
    "    \"Aave\": 0,\n",
    "    \"Balancer\": 0\n",
    "}\n",
    "cursor = mongo_connection[\"optimism\"][\"mev_liquidation_results\"].find({\"liquidations.flash_loan\": {\"$ne\": None}})\n",
    "for document in cursor:\n",
    "    for liquidation in document[\"liquidations\"]:\n",
    "        if liquidation[\"flash_loan\"][\"platform_name\"] in [\"Aave\"]:\n",
    "            optimism_liquidation_flash_loan_platforms[\"Aave\"] += 1\n",
    "            optimism_liquidation_flash_loan_txs += 1\n",
    "        if liquidation[\"flash_loan\"][\"platform_name\"] in [\"Balancer\"]:\n",
    "            optimism_liquidation_flash_loan_platforms[\"Balancer\"] += 1\n",
    "            optimism_liquidation_flash_loan_txs += 1"
   ]
  },
  {
   "cell_type": "code",
   "execution_count": 15,
   "id": "834bcaee",
   "metadata": {},
   "outputs": [
    {
     "name": "stdout",
     "output_type": "stream",
     "text": [
      "Number of liquidation transactions on Optimism: 5347\n",
      "Number of liquidation transactions on Optimism with flash loans: 3152\n",
      "Number of liquidation transactions on Optimism with Aave flash loans: 2373\n",
      "Number of liquidation transactions on Optimism with Balancer flash loans: 779\n"
     ]
    }
   ],
   "source": [
    "print(\"Number of liquidation transactions on Optimism:\", optimism_liquidation_txs)\n",
    "print(\"Number of liquidation transactions on Optimism with flash loans:\", optimism_liquidation_flash_loan_txs)\n",
    "print(\"Number of liquidation transactions on Optimism with Aave flash loans:\", optimism_liquidation_flash_loan_platforms[\"Aave\"])\n",
    "print(\"Number of liquidation transactions on Optimism with Balancer flash loans:\", optimism_liquidation_flash_loan_platforms[\"Balancer\"])"
   ]
  },
  {
   "cell_type": "code",
   "execution_count": 16,
   "id": "4c791d48",
   "metadata": {},
   "outputs": [],
   "source": [
    "zksync_liquidation_txs = mongo_connection[\"zksync\"][\"mev_liquidation_results\"].count_documents({})\n",
    "zksync_liquidation_flash_loan_txs = 0\n",
    "zksync_liquidation_flash_loan_platforms = {\n",
    "    \"Aave\": 0,\n",
    "    \"Balancer\": 0\n",
    "}\n",
    "cursor = mongo_connection[\"zksync\"][\"mev_liquidation_results\"].find({\"liquidations.flash_loan\": {\"$ne\": None}})\n",
    "for document in cursor:\n",
    "    zksync_liquidation_txs += 1\n",
    "    for liquidation in document[\"liquidations\"]:\n",
    "        if liquidation[\"flash_loan\"]:\n",
    "            if liquidation[\"flash_loan\"][\"platform_name\"] in [\"Aave\"]:\n",
    "                zksync_liquidation_flash_loan_platforms[\"Aave\"] += 1\n",
    "                zksync_liquidation_flash_loan_txs += 1\n",
    "            if liquidation[\"flash_loan\"][\"platform_name\"] in [\"Balancer\"]:\n",
    "                zksync_liquidation_flash_loan_platforms[\"Balancer\"] += 1\n",
    "                zksync_liquidation_flash_loan_txs += 1"
   ]
  },
  {
   "cell_type": "code",
   "execution_count": 17,
   "id": "e99aaece",
   "metadata": {},
   "outputs": [
    {
     "name": "stdout",
     "output_type": "stream",
     "text": [
      "Number of liquidation transactions on zkSync: 422\n",
      "Number of liquidation transactions on zkSync with flash loans: 97\n",
      "Number of liquidation transactions on zkSync with Aave flash loans: 10\n",
      "Number of liquidation transactions on zkSync with Balancer flash loans: 87\n"
     ]
    }
   ],
   "source": [
    "print(\"Number of liquidation transactions on zkSync:\", zksync_liquidation_txs)\n",
    "print(\"Number of liquidation transactions on zkSync with flash loans:\", zksync_liquidation_flash_loan_txs)\n",
    "print(\"Number of liquidation transactions on zkSync with Aave flash loans:\", zksync_liquidation_flash_loan_platforms[\"Aave\"])\n",
    "print(\"Number of liquidation transactions on zkSync with Balancer flash loans:\", zksync_liquidation_flash_loan_platforms[\"Balancer\"])"
   ]
  },
  {
   "cell_type": "markdown",
   "id": "702da3bf",
   "metadata": {},
   "source": [
    "### Plot"
   ]
  },
  {
   "cell_type": "code",
   "execution_count": 18,
   "id": "ab21741f",
   "metadata": {},
   "outputs": [
    {
     "name": "stdout",
     "output_type": "stream",
     "text": [
      "Arbitrages (Percentrage):\n",
      "Balancer: \t\t [0.07457594 0.2114447  0.02696455 0.        ]\n",
      "Aave: \t\t\t [ 0.1550449   6.49997738 13.19511759  0.        ]\n",
      "No/Other Flash Loans: \t [ 99.77037915  93.28857792  86.77791785 100.        ]\n",
      "\n",
      "Liquidations (Percentrage):\n",
      "Aave: \t\t [ 4.81998101 39.7763881  44.38002618  2.36966825]\n",
      "Balancer: \t\t\t [ 0.81976192  9.17187796 14.56891715 20.61611374]\n",
      "No/Other Flash Loans: \t [94.36025707 51.05173394 41.05105667 77.01421801]\n"
     ]
    },
    {
     "data": {
      "image/png": "[encoded data removed]",
      "text/plain": [
       "<Figure size 640x480 with 2 Axes>"
      ]
     },
     "metadata": {},
     "output_type": "display_data"
    }
   ],
   "source": [
    "fig, (ax1, ax2) = plt.subplots(ncols=2, nrows=1, sharey=True)\n",
    "    \n",
    "x = ['Ethereum', 'Arbitrum', 'Optimism', 'zkSync']\n",
    "\n",
    "y1_arbitrages = np.array([\n",
    "    ethereum_arbitrage_flash_loan_platforms[\"Aave\"]/ethereum_arbitrage_txs*100.0, \n",
    "    arbitrum_arbitrage_flash_loan_platforms[\"Aave\"]/arbitrum_arbitrage_txs*100.0, \n",
    "    optimism_arbitrage_flash_loan_platforms[\"Aave\"]/optimism_arbitrage_txs*100.0, \n",
    "    zksync_arbitrage_flash_loan_platforms[\"Aave\"]/zksync_arbitrage_txs*100.0\n",
    "])\n",
    "y2_arbitrages = np.array([\n",
    "    \n",
    "    ethereum_arbitrage_flash_loan_platforms[\"Balancer\"]/ethereum_arbitrage_txs*100.0, \n",
    "    arbitrum_arbitrage_flash_loan_platforms[\"Balancer\"]/arbitrum_arbitrage_txs*100.0, \n",
    "    optimism_arbitrage_flash_loan_platforms[\"Balancer\"]/optimism_arbitrage_txs*100.0, \n",
    "    zksync_arbitrage_flash_loan_platforms[\"Balancer\"]/zksync_arbitrage_txs*100.0\n",
    "])\n",
    "\n",
    "y3_arbitrages = 100 - (y1_arbitrages + y2_arbitrages)\n",
    "print(\"Arbitrages (Percentrage):\")\n",
    "print(\"Balancer:\", \"\\t\\t\", y1_arbitrages)\n",
    "print(\"Aave:\", \"\\t\\t\\t\", y2_arbitrages)\n",
    "print(\"No/Other Flash Loans:\", \"\\t\", y3_arbitrages)\n",
    "print()\n",
    "y1_liquidations = np.array([\n",
    "    ethereum_liquidation_flash_loan_platforms[\"Aave\"]/ethereum_liquidation_txs*100.0, \n",
    "    arbitrum_liquidation_flash_loan_platforms[\"Aave\"]/arbitrum_liquidation_txs*100.0,\n",
    "    optimism_liquidation_flash_loan_platforms[\"Aave\"]/optimism_liquidation_txs*100.0,\n",
    "    zksync_liquidation_flash_loan_platforms[\"Aave\"]/zksync_liquidation_txs*100.0\n",
    "])\n",
    "y2_liquidations = np.array([\n",
    "    ethereum_liquidation_flash_loan_platforms[\"Balancer\"]/ethereum_liquidation_txs*100.0, \n",
    "    arbitrum_liquidation_flash_loan_platforms[\"Balancer\"]/arbitrum_liquidation_txs*100.0,\n",
    "    optimism_liquidation_flash_loan_platforms[\"Balancer\"]/optimism_liquidation_txs*100.0,\n",
    "    zksync_liquidation_flash_loan_platforms[\"Balancer\"]/zksync_liquidation_txs*100.0\n",
    "])\n",
    "y3_liquidations = 100 - (y1_liquidations + y2_liquidations)\n",
    "print(\"Liquidations (Percentrage):\")\n",
    "print(\"Aave:\", \"\\t\\t\", y1_liquidations)\n",
    "print(\"Balancer:\", \"\\t\\t\\t\", y2_liquidations)\n",
    "print(\"No/Other Flash Loans:\", \"\\t\", y3_liquidations)\n",
    "\n",
    "w = 0.6\n",
    "a = 0.5\n",
    "ax1.bar(x, y1_arbitrages, width=w, alpha=a, color='darkblue', edgecolor='darkblue')\n",
    "ax1.bar(x, y2_arbitrages, width=w, alpha=a, bottom=y1_arbitrages, color='mediumorchid', edgecolor='mediumorchid')\n",
    "#ax1.bar(x, y3_arbitrages, width=w, alpha=a, bottom=y1_arbitrages+y2_arbitrages, color='lightgrey', edgecolor='lightgrey')\n",
    "\n",
    "ax2.bar(x, y1_liquidations, width=w, alpha=a, color='darkblue', edgecolor='darkblue')\n",
    "ax2.bar(x, y2_liquidations, width=w, alpha=a, bottom=y1_liquidations, color='mediumorchid', edgecolor='mediumorchid')\n",
    "#ax2.bar(x, y3_liquidations, width=w, alpha=a, bottom=y1_liquidations+y2_liquidations, color='lightgrey', edgecolor='lightgrey')\n",
    "\n",
    "for bar in ax1.patches:\n",
    "    if round(bar.get_height()) >= 5:\n",
    "        ax1.text(bar.get_x() + bar.get_width() / 2,\n",
    "              bar.get_height() / 2 + bar.get_y() - 1.25,\n",
    "              str(round(bar.get_height()))+\"%\", ha = 'center',\n",
    "              color='w', size=10)\n",
    "\n",
    "for bar in ax2.patches:\n",
    "    if round(bar.get_height()) >= 5:\n",
    "        ax2.text(bar.get_x() + bar.get_width() / 2,\n",
    "              bar.get_height() / 2 + bar.get_y() - 1.25,\n",
    "              str(round(bar.get_height()))+\"%\", ha = 'center',\n",
    "              color='w', size=10)\n",
    "\n",
    "patches = [\n",
    "    Patch(facecolor='mediumorchid', edgecolor='mediumorchid', alpha=a, label='Aave'),\n",
    "    Patch(facecolor='darkblue', edgecolor='darkblue', alpha=a, label='Balancer'),\n",
    "    #Patch(facecolor='grey', edgecolor='grey', alpha=0.4, hatch='\\\\\\\\\\\\', label='Arbitrage'),\n",
    "    #Patch(facecolor='grey', edgecolor='grey', alpha=0.4, hatch='///', label='Liquidation')\n",
    "]\n",
    "legend = fig.legend(handles=patches, bbox_to_anchor=(0.54, 1.075), loc='upper center', frameon=True, ncol=2)\n",
    "\n",
    "ax1.set_title('Arbitrage', fontsize=10)\n",
    "ax2.set_title('Liquidation', fontsize=10)\n",
    "ax1.set_ylim(0, 100)\n",
    "ax2.set_ylim(0, 100)\n",
    "ax1.set(xlabel=None)\n",
    "ax2.set(xlabel=None)\n",
    "ax1.set_ylabel('Percentage (%)')\n",
    "#plt.grid(axis='y', alpha=0.5)\n",
    "plt.tight_layout()\n",
    "plt.show()\n"
   ]
  },
  {
   "cell_type": "code",
   "execution_count": null,
   "id": "c52a95c8",
   "metadata": {},
   "outputs": [],
   "source": []
  }
 ],
 "metadata": {
  "kernelspec": {
   "display_name": "Python 3 (ipykernel)",
   "language": "python",
   "name": "python3"
  },
  "language_info": {
   "codemirror_mode": {
    "name": "ipython",
    "version": 3
   },
   "file_extension": ".py",
   "mimetype": "text/x-python",
   "name": "python",
   "nbconvert_exporter": "python",
   "pygments_lexer": "ipython3",
   "version": "3.10.12"
  }
 },
 "nbformat": 4,
 "nbformat_minor": 5
}
