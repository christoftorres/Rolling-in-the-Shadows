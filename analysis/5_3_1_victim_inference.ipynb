{
 "cells": [
  {
   "cell_type": "code",
   "execution_count": 2,
   "id": "ba751642",
   "metadata": {},
   "outputs": [],
   "source": [
    "import pymongo\n",
    "import numpy as np\n",
    "import pandas as pd\n",
    "\n",
    "MONGO_HOST = \"localhost\"\n",
    "MONGO_PORT = 27017\n",
    "\n",
    "mongo_connection = pymongo.MongoClient(\"mongodb://\"+MONGO_HOST+\":\"+str(MONGO_PORT), maxPoolSize=None)"
   ]
  },
  {
   "cell_type": "code",
   "execution_count": 3,
   "id": "b5d2fa5f",
   "metadata": {},
   "outputs": [
    {
     "name": "stdout",
     "output_type": "stream",
     "text": [
      "Number of relevant L2 transactions emitted via L1: 1916524\n",
      "Number of Arbitrum L2 transactions emitted via L1: 1459570\n",
      "Number of Optimism L2 transactions emitted via L1: 424212\n",
      "Number of zkSync L2 transactions emitted via L1: 32742\n"
     ]
    }
   ],
   "source": [
    "cursor = mongo_connection[\"ethereum\"][\"l1_messages_results\"].find()\n",
    "total_l1_messages = 0\n",
    "arbitrum_l1_messages = 0\n",
    "optimism_l1_messages = 0\n",
    "zksync_l1_messages = 0\n",
    "for d in cursor:\n",
    "    if d[\"rollup\"] == \"Arbitrum One [Classic]\" or d[\"rollup\"] == \"Arbitrum One [Nitro]\":\n",
    "        total_l1_messages += 1\n",
    "        arbitrum_l1_messages += 1\n",
    "    if d[\"rollup\"] == \"Optimism [Bedrock]\" or d[\"rollup\"] == \"Optimism [Pre-Bedrock]\":\n",
    "        total_l1_messages += 1\n",
    "        optimism_l1_messages += 1\n",
    "    if d[\"rollup\"] == \"zkSync Era\":\n",
    "        total_l1_messages += 1\n",
    "        zksync_l1_messages += 1\n",
    "print(\"Number of relevant L2 transactions emitted via L1: \"+str(total_l1_messages))\n",
    "print(\"Number of Arbitrum L2 transactions emitted via L1: \"+str(arbitrum_l1_messages))\n",
    "print(\"Number of Optimism L2 transactions emitted via L1: \"+str(optimism_l1_messages))\n",
    "print(\"Number of zkSync L2 transactions emitted via L1: \"+str(zksync_l1_messages))"
   ]
  },
  {
   "cell_type": "markdown",
   "id": "fb132a3b",
   "metadata": {},
   "source": [
    "### Arbitrum"
   ]
  },
  {
   "cell_type": "code",
   "execution_count": 12,
   "id": "5d24b864",
   "metadata": {},
   "outputs": [
    {
     "name": "stdout",
     "output_type": "stream",
     "text": [
      "Number of L2 swaps: 87921\n",
      "                                          DEX   Algorithm  Swaps\n",
      "0  0x652d27c0F72771Ce5C76fd400edD61B406Ac6D97  StableSwap  76312\n",
      "2  0x10541b07d8Ad2647Dc6cD67abd4c03575dade261  StableSwap   8014\n",
      "1  0x18f7402B673Ba6Fb5EA4B95768aABb8aaD7ef18a  StableSwap   2525\n",
      "3  0xa5A33aB9063395A90CCbEa2D86a62EcCf27B5742  StableSwap    996\n",
      "4  0x0Ded0d521AC7B0d312871D18EA4FDE79f03Ee7CA  StableSwap     65\n",
      "5  0xFFe42d3Ba79Ee5Ee74a999CAd0c60EF1153F0b82  StableSwap      9\n"
     ]
    }
   ],
   "source": [
    "cursor = mongo_connection[\"arbitrum\"][\"l2_messages_results\"].find()\n",
    "c = 0\n",
    "victims = dict()\n",
    "for d in cursor:\n",
    "    c += 1\n",
    "    if not d[\"swap\"][\"dex_address\"] in victims:\n",
    "        victims[d[\"swap\"][\"dex_address\"]] = {\n",
    "            \"algorithm\": d[\"swap\"][\"algorithm\"],\n",
    "            \"swaps\": 0\n",
    "        }\n",
    "    victims[d[\"swap\"][\"dex_address\"]][\"swaps\"] += 1\n",
    "print(\"Number of L2 swaps: \"+str(c))\n",
    "df = pd.DataFrame(columns=[\"DEX\", \"Algorithm\", \"Swaps\"])\n",
    "i = 0\n",
    "for victim in victims:\n",
    "    df.loc[i, \"DEX\"] = victim\n",
    "    df.loc[i, \"Algorithm\"] = victims[victim][\"algorithm\"]\n",
    "    df.loc[i, \"Swaps\"] = victims[victim][\"swaps\"]\n",
    "    i += 1\n",
    "print(df.sort_values(by=[\"Swaps\"], ascending=False))"
   ]
  },
  {
   "cell_type": "markdown",
   "id": "e241fb3c",
   "metadata": {},
   "source": [
    "### Optimism"
   ]
  },
  {
   "cell_type": "code",
   "execution_count": 13,
   "id": "caf4d432",
   "metadata": {},
   "outputs": [
    {
     "name": "stdout",
     "output_type": "stream",
     "text": [
      "Number of L2 swaps: 82753\n",
      "                                          DEX   Algorithm  Swaps\n",
      "0  0xaa30D6bba6285d0585722e2440Ff89E23EF68864  StableSwap  70118\n",
      "1  0x3c0FFAca566fCcfD9Cc95139FEF6CBA143795963  StableSwap   8756\n",
      "2  0xeC4B41Af04cF917b54AEb6Df58c0f8D78895b5Ef  StableSwap   1696\n",
      "4  0xF181eD90D6CfaC84B8073FdEA6D34Aa744B41810  StableSwap   1315\n",
      "3  0x1990BC6dfe2ef605Bfc08f5A23564dB75642Ad73  StableSwap    698\n",
      "7  0x8d4063E82A4Db8CdAed46932E1c71e03CA69Bede  StableSwap    105\n",
      "8  0x9Dd8685463285aD5a94D2c128bda3c5e8a6173c8  StableSwap     63\n",
      "5  0x36B18618c4131D8564A714fb6b4D2B1EdADc0042  Uniswap V3      1\n",
      "6  0x6e39aCC0Dd292a70D92c447ebCcB8728f4eD5FE4  Uniswap V3      1\n"
     ]
    }
   ],
   "source": [
    "cursor = mongo_connection[\"optimism\"][\"l2_messages_results\"].find()\n",
    "c = 0\n",
    "victims = dict()\n",
    "for d in cursor:\n",
    "    c += 1\n",
    "    if not d[\"swap\"][\"dex_address\"] in victims:\n",
    "        victims[d[\"swap\"][\"dex_address\"]] = {\n",
    "            \"algorithm\": d[\"swap\"][\"algorithm\"],\n",
    "            \"swaps\": 0\n",
    "        }\n",
    "    victims[d[\"swap\"][\"dex_address\"]][\"swaps\"] += 1\n",
    "print(\"Number of L2 swaps: \"+str(c))\n",
    "df = pd.DataFrame(columns=[\"DEX\", \"Algorithm\", \"Swaps\"])\n",
    "i = 0\n",
    "for victim in victims:\n",
    "    df.loc[i, \"DEX\"] = victim\n",
    "    df.loc[i, \"Algorithm\"] = victims[victim][\"algorithm\"]\n",
    "    df.loc[i, \"Swaps\"] = victims[victim][\"swaps\"]\n",
    "    i += 1\n",
    "print(df.sort_values(by=[\"Swaps\"], ascending=False))"
   ]
  },
  {
   "cell_type": "code",
   "execution_count": null,
   "id": "a1d4fcbd",
   "metadata": {},
   "outputs": [],
   "source": []
  }
 ],
 "metadata": {
  "kernelspec": {
   "display_name": "Python 3 (ipykernel)",
   "language": "python",
   "name": "python3"
  },
  "language_info": {
   "codemirror_mode": {
    "name": "ipython",
    "version": 3
   },
   "file_extension": ".py",
   "mimetype": "text/x-python",
   "name": "python",
   "nbconvert_exporter": "python",
   "pygments_lexer": "ipython3",
   "version": "3.10.12"
  }
 },
 "nbformat": 4,
 "nbformat_minor": 5
}
